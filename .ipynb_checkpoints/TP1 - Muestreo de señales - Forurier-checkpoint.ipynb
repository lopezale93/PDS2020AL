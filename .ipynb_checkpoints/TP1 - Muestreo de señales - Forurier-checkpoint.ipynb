{
 "cells": [
  {
   "cell_type": "markdown",
   "metadata": {},
   "source": [
    "<img src=\"./logo_UTN.svg\" align=\"right\" width=\"150\" /> \n",
    "#### Procesamiento Digital de Señales\n",
    "\n",
    "# Trabajo Práctico 1\n",
    "#### Alejandro Lopez\n",
    "\n",
    "***\n",
    "## Muestreo de señales - Fourier\n"
   ]
  },
  {
   "cell_type": "markdown",
   "metadata": {},
   "source": [
    "<div class=\"alert alert-block alert-info\">\n",
    "<b>1)</b> Se busca realizar una librería en Python que nos permita obtener $N$ muestras de las siguientes señales de período $T_0=1/f_0$, muestreadas a una frecuencia $f_s$ :\n",
    "\n",
    "</div>"
   ]
  },
  {
   "cell_type": "markdown",
   "metadata": {
    "solution": "shown"
   },
   "source": [
    "\n",
    "+ **Senoidal**\n",
    "\n",
    "> $s(k)=A_0.sin(2\\pi.k.\\frac{ f_0}{f_s} + \\phi_0),\\space\\space \\forall k \\in \\Bbb{R} \\wedge k \\in (0, N-1)$\n",
    "\n",
    "+ __Ruido__ incorrelado de distribución Gaussiana y parámetros $\\mu$ y $\\sigma^2$\n",
    "\n",
    "***\n",
    "\n",
    "+ (Opcional) __Cuadrada__ con ciclo de actividad $d \\in (0,1)$\n",
    "\n",
    "> $s(k)=A_0,\\space\\space \\forall k \\in (0, N.d ]$ \n",
    "\n",
    "> $s(k)=-A_0,\\space \\forall k \\in (N.d, N-1)$\n",
    "\n",
    "+ (Opcional) __Triangular__ con punto de simetría $d \\in (0,1)$ y coeficientes $a_{ij} \\in \\Bbb{R}$\n",
    "\n",
    "> $s(k)=a_{11}.k/f_s+a_{12},\\space\\space \\forall k \\in (0, N.d ]$ \n",
    "\n",
    "> $s(k)=a_{21}.k/f_s+a_{22},\\space \\forall k \\in (N.d, N-1)$\n"
   ]
  },
  {
   "cell_type": "markdown",
   "metadata": {},
   "source": [
    "Es decir que se podría invocar la señal que genere la senoidal de la siguiente manera:\n"
   ]
  },
  {
   "cell_type": "code",
   "execution_count": 12,
   "metadata": {},
   "outputs": [],
   "source": [
    "\n",
    "def generador_senoidal (fs, f0, N, a0=1, p0=0):\n",
    "    \"\"\" \n",
    "    \n",
    "    brief:  Generador de señales senoidal, con argumentos\n",
    "    \n",
    "    fs:     frecuencia de muestreo de la señal [Hz]\n",
    "    N:      cantidad de muestras de la señal a generar\n",
    "    f0:     frecuencia de la senoidal [Hz]\n",
    "    a0:     amplitud pico de la señal [V]\n",
    "    p0:     fase de la señal sinusoidal [rad]\n",
    "    \n",
    "    como resultado la señal devuelve:\n",
    "    \n",
    "    signal: senoidal evaluada en cada instante \n",
    "    tt:     base de tiempo de la señal\n",
    "    \"\"\"    \n",
    "\n",
    "    # comienzo de la función\n",
    "\n",
    "\n",
    "\n",
    "    ts = 1/fs # tiempo de muestreo\n",
    "    df = fs/N # resolución espectral\n",
    "    \n",
    "    # grilla de sampleo temporal\n",
    "    tt = np.arange(0.0, N/fs, 1/fs)\n",
    "    \n",
    "    # grilla de sampleo frecuencial\n",
    "    fk = np.linspace(0, (N-1)*df, N).flatten()\n",
    "\n",
    "\n",
    "\n",
    "    x = np.array([], dtype=np.float).reshape(N,0)\n",
    "\n",
    "    # Preparo la senoideal con los parametros provistos\n",
    "    xx =((a0)* np.sin( ( 2*np.pi*f0*tt) + p0))\n",
    "\n",
    "    # Ploteo\n",
    "    \n",
    "    \n",
    "    # fin de la función\n",
    "    \n",
    "    return tt, xx\n"
   ]
  },
  {
   "cell_type": "markdown",
   "metadata": {},
   "source": [
    "a) Genere las gráficas asociadas a las siguientes señales de ejemplo para corroborar el correcto funcionamiento de las funciones. Para la presentación de las mismas, tome como referencia la presentación de la siguiente señal respecto a:\n",
    "\n",
    "* etiquetas indicando cada eje con sus respectivas unidades\n",
    "* leyendas indicando cada trazo o color qué representa\n",
    "* título de la figura que explique lo que se pretende visualizar\n",
    "\n",
    "\n",
    "<img src=\"./fig_ejemplo.svg\" align=\"center\" width=\"100%\" /> \n",
    "<img src=\"./fig_ejemplo2.svg\" align=\"center\" width=\"70%\" /> "
   ]
  },
  {
   "cell_type": "code",
   "execution_count": 13,
   "metadata": {},
   "outputs": [],
   "source": [
    "import numpy as np\n",
    "import matplotlib as mpl\n",
    "import matplotlib.pyplot as plt\n",
    "\n",
    "# Insertar aquí el código para inicializar tu notebook\n",
    "########################################################\n"
   ]
  },
  {
   "cell_type": "code",
   "execution_count": 14,
   "metadata": {},
   "outputs": [],
   "source": [
    "# NO modifiques este bloque\n",
    "############################\n",
    "\n",
    "N  = 1000 # muestras\n",
    "fs = 1000 # Hz\n"
   ]
  },
  {
   "cell_type": "code",
   "execution_count": 15,
   "metadata": {},
   "outputs": [
    {
     "data": {
      "image/png": "[encoded data removed]",
      "text/plain": [
       "<Figure size 432x288 with 1 Axes>"
      ]
     },
     "metadata": {
      "needs_background": "light"
     },
     "output_type": "display_data"
    }
   ],
   "source": [
    "##################\n",
    "# a.1) Senoidal #\n",
    "#################\n",
    "\n",
    "a0 = 1 # Volts\n",
    "p0 = 0 # radianes\n",
    "f0 = 10   # Hz\n",
    "\n",
    "# Insertar aquí el código para generar y visualizar la señal\n",
    "##############################################################\n",
    "tt,xx=generador_senoidal(fs, f0, N, a0, p0)\n",
    "\n",
    "plt.plot(tt,xx)\n",
    "plt.xlabel(\"T [S]\")\n",
    "plt.ylabel(\"Vmax  [V] \")\n",
    "plt.title('Senoideal Custom')\n",
    "plt.show()\n"
   ]
  },
  {
   "cell_type": "markdown",
   "metadata": {},
   "source": [
    "¿Podría inferir la frecuencia de la senoidal a.1 a partir de su representación temporal?\n"
   ]
  },
  {
   "cell_type": "markdown",
   "metadata": {},
   "source": [
    "<div class=\"alert alert-block alert-warning\">\n",
    "<b>Respuesta:</b> Para esta frecuencia podemos reconocer la senoideal en el grafico\n",
    "</div>"
   ]
  },
  {
   "cell_type": "code",
   "execution_count": 16,
   "metadata": {},
   "outputs": [
    {
     "data": {
      "image/png": "[encoded data removed]",
      "text/plain": [
       "<Figure size 432x288 with 1 Axes>"
      ]
     },
     "metadata": {
      "needs_background": "light"
     },
     "output_type": "display_data"
    }
   ],
   "source": [
    "##################\n",
    "# a.2) Senoidal #\n",
    "#################\n",
    "\n",
    "a0 = 1 # Volts\n",
    "p0 = 0 # radianes\n",
    "f0 = fs/2   # Hz\n",
    "\n",
    "# Insertar aquí el código para generar y visualizar la señal\n",
    "##############################################################\n",
    "tt,xx=generador_senoidal(fs, f0, N, a0, p0)\n",
    "\n",
    "plt.plot(tt,xx)\n",
    "plt.xlabel(\"T [S]\")\n",
    "plt.ylabel(\"Vmax  [V] \")\n",
    "plt.title('Senoideal Custom')\n",
    "plt.show()"
   ]
  },
  {
   "cell_type": "code",
   "execution_count": 17,
   "metadata": {},
   "outputs": [
    {
     "data": {
      "image/png": "[encoded data removed]",
      "text/plain": [
       "<Figure size 432x288 with 1 Axes>"
      ]
     },
     "metadata": {
      "needs_background": "light"
     },
     "output_type": "display_data"
    }
   ],
   "source": [
    "##################\n",
    "# a.3) Senoidal #\n",
    "#################\n",
    "\n",
    "a0 = 1       # Volts\n",
    "p0 = np.pi/2 # radianes\n",
    "f0 = fs/2    # Hz\n",
    "\n",
    "# Insertar aquí el código para generar y visualizar la señal\n",
    "##############################################################\n",
    "tt,xx=generador_senoidal(fs, f0, N, a0, p0)\n",
    "\n",
    "plt.plot(tt,xx)\n",
    "plt.xlabel(\"T [S]\")\n",
    "plt.ylabel(\"Vmax  [V] \")\n",
    "plt.title('Senoideal Custom')\n",
    "plt.show()\n"
   ]
  },
  {
   "cell_type": "markdown",
   "metadata": {},
   "source": [
    "¿Y para los casos **a.2** y **a.3** podría conocer los parámetros de la senoidal?"
   ]
  },
  {
   "cell_type": "markdown",
   "metadata": {},
   "source": [
    "<div class=\"alert alert-block alert-warning\">\n",
    "<b>Respuesta:</b> En ninguno de los casos propuestos se puede reconocer una senoideal\n",
    "</div>"
   ]
  },
  {
   "cell_type": "markdown",
   "metadata": {},
   "source": [
    "¿A qué se debe?"
   ]
  },
  {
   "cell_type": "markdown",
   "metadata": {},
   "source": [
    "<div class=\"alert alert-block alert-warning\">\n",
    "<b>Respuesta:</b> Escriba aquí su respuesta.\n",
    "</div>"
   ]
  },
  {
   "cell_type": "code",
   "execution_count": 18,
   "metadata": {
    "scrolled": true
   },
   "outputs": [
    {
     "data": {
      "image/png": "[encoded data removed]",
      "text/plain": [
       "<Figure size 432x288 with 1 Axes>"
      ]
     },
     "metadata": {
      "needs_background": "light"
     },
     "output_type": "display_data"
    }
   ],
   "source": [
    "##################\n",
    "# a.4) Senoidal #\n",
    "#################\n",
    "\n",
    "a0 = 1     # Volts\n",
    "p0 = 0     # radianes\n",
    "f0 = fs+10 # Hz\n",
    "\n",
    "# Insertar aquí el código para generar y visualizar la señal\n",
    "##############################################################\n",
    "tt,xx=generador_senoidal(fs, f0, N, a0, p0)\n",
    "\n",
    "plt.plot(tt,xx)\n",
    "plt.xlabel(\"T [S]\")\n",
    "plt.ylabel(\"Vmax  [V] \")\n",
    "plt.title('Senoideal Custom')\n",
    "plt.show()\n"
   ]
  },
  {
   "cell_type": "markdown",
   "metadata": {},
   "source": [
    "¿Es posible diferenciar **a.1** de **a.4** a partir de las gráficas?"
   ]
  },
  {
   "cell_type": "markdown",
   "metadata": {},
   "source": [
    "<div class=\"alert alert-block alert-warning\">\n",
    "<b>Respuesta:</b> No se llega a notar diferencias entre ambas\n",
    "</div>"
   ]
  },
  {
   "cell_type": "markdown",
   "metadata": {},
   "source": [
    "¿En caso que no, qué solución podría implementar para evitar dicha ambigüedad?"
   ]
  },
  {
   "cell_type": "markdown",
   "metadata": {},
   "source": [
    "<div class=\"alert alert-block alert-warning\">\n",
    "<b>Respuesta:</b> Para solucionar se debe utilizar un filtro paso bajos antes de muestrear (Antialiasing).\n",
    "</div>"
   ]
  },
  {
   "cell_type": "markdown",
   "metadata": {},
   "source": [
    "<div class=\"alert alert-block alert-info\">\n",
    "<b>2.a)</b> (Opcional) Implemente un algoritmo que calcule la transformada discreta de Fourier (DFT). Utilice las funciones generadoras de señales de 1) para evaluar y ejemplificar su funcionamiento.\n",
    "</div>"
   ]
  },
  {
   "cell_type": "markdown",
   "metadata": {},
   "source": [
    "<div class=\"alert alert-block alert-info\">\n",
    "<b>2.b)</b> (Opcional) Compare el tiempo de ejecución de la DFT implementada en con la **FFT** (implementada en **scipy.signal**) en función del tamaño de la señal N. Grafique el tiempo de ejecución de ambos casos en función de N.\n",
    "</div>"
   ]
  },
  {
   "cell_type": "markdown",
   "metadata": {},
   "source": [
    "<div class=\"alert alert-block alert-success\">\n",
    "<b>Ayuda:</b> Utilice el módulo **timeit** para medir el tiempo transcurrido.\n",
    "</div>"
   ]
  },
  {
   "cell_type": "code",
   "execution_count": 19,
   "metadata": {
    "scrolled": false
   },
   "outputs": [
    {
     "ename": "ValueError",
     "evalue": "Invalid RGBA argument: -0.0",
     "output_type": "error",
     "traceback": [
      "\u001b[0;31m---------------------------------------------------------------------------\u001b[0m",
      "\u001b[0;31mValueError\u001b[0m                                Traceback (most recent call last)",
      "\u001b[0;32m<ipython-input-19-2ea9954dab7c>\u001b[0m in \u001b[0;36m<module>\u001b[0;34m\u001b[0m\n\u001b[1;32m      9\u001b[0m \u001b[0mY\u001b[0m \u001b[0;34m=\u001b[0m \u001b[0mfft\u001b[0m\u001b[0;34m(\u001b[0m\u001b[0mxx\u001b[0m\u001b[0;34m)\u001b[0m\u001b[0;34m\u001b[0m\u001b[0;34m\u001b[0m\u001b[0m\n\u001b[1;32m     10\u001b[0m \u001b[0mfrq\u001b[0m \u001b[0;34m=\u001b[0m \u001b[0mfftfreq\u001b[0m\u001b[0;34m(\u001b[0m\u001b[0mN\u001b[0m\u001b[0;34m,\u001b[0m \u001b[0mdt\u001b[0m\u001b[0;34m)\u001b[0m \u001b[0;31m# obtengo las frecuencias con fftfreq\u001b[0m\u001b[0;34m\u001b[0m\u001b[0;34m\u001b[0m\u001b[0m\n\u001b[0;32m---> 11\u001b[0;31m \u001b[0mplt\u001b[0m\u001b[0;34m.\u001b[0m\u001b[0mvlines\u001b[0m\u001b[0;34m(\u001b[0m\u001b[0mfrq\u001b[0m\u001b[0;34m,\u001b[0m \u001b[0mY\u001b[0m\u001b[0;34m.\u001b[0m\u001b[0mreal\u001b[0m\u001b[0;34m,\u001b[0m \u001b[0mfrq\u001b[0m\u001b[0;34m,\u001b[0m\u001b[0mY\u001b[0m\u001b[0;34m.\u001b[0m\u001b[0mimag\u001b[0m\u001b[0;34m)\u001b[0m \u001b[0;31m#  # Representamos la parte imaginaria\u001b[0m\u001b[0;34m\u001b[0m\u001b[0;34m\u001b[0m\u001b[0m\n\u001b[0m\u001b[1;32m     12\u001b[0m \u001b[0mplt\u001b[0m\u001b[0;34m.\u001b[0m\u001b[0mylim\u001b[0m\u001b[0;34m(\u001b[0m\u001b[0;34m-\u001b[0m\u001b[0;36m1\u001b[0m\u001b[0;34m,\u001b[0m \u001b[0;36m1\u001b[0m\u001b[0;34m)\u001b[0m\u001b[0;34m\u001b[0m\u001b[0;34m\u001b[0m\u001b[0m\n\u001b[1;32m     13\u001b[0m \u001b[0mplt\u001b[0m\u001b[0;34m.\u001b[0m\u001b[0mxlabel\u001b[0m\u001b[0;34m(\u001b[0m\u001b[0;34m'Frecuencia (Hz)'\u001b[0m\u001b[0;34m)\u001b[0m\u001b[0;34m\u001b[0m\u001b[0;34m\u001b[0m\u001b[0m\n",
      "\u001b[0;32m/usr/lib/python3/dist-packages/matplotlib/pyplot.py\u001b[0m in \u001b[0;36mvlines\u001b[0;34m(x, ymin, ymax, colors, linestyles, label, data, **kwargs)\u001b[0m\n\u001b[1;32m   3027\u001b[0m         \u001b[0mx\u001b[0m\u001b[0;34m,\u001b[0m \u001b[0mymin\u001b[0m\u001b[0;34m,\u001b[0m \u001b[0mymax\u001b[0m\u001b[0;34m,\u001b[0m \u001b[0mcolors\u001b[0m\u001b[0;34m=\u001b[0m\u001b[0;34m'k'\u001b[0m\u001b[0;34m,\u001b[0m \u001b[0mlinestyles\u001b[0m\u001b[0;34m=\u001b[0m\u001b[0;34m'solid'\u001b[0m\u001b[0;34m,\u001b[0m \u001b[0mlabel\u001b[0m\u001b[0;34m=\u001b[0m\u001b[0;34m''\u001b[0m\u001b[0;34m,\u001b[0m \u001b[0;34m*\u001b[0m\u001b[0;34m,\u001b[0m\u001b[0;34m\u001b[0m\u001b[0;34m\u001b[0m\u001b[0m\n\u001b[1;32m   3028\u001b[0m         data=None, **kwargs):\n\u001b[0;32m-> 3029\u001b[0;31m     return gca().vlines(\n\u001b[0m\u001b[1;32m   3030\u001b[0m         \u001b[0mx\u001b[0m\u001b[0;34m,\u001b[0m \u001b[0mymin\u001b[0m\u001b[0;34m,\u001b[0m \u001b[0mymax\u001b[0m\u001b[0;34m,\u001b[0m \u001b[0mcolors\u001b[0m\u001b[0;34m=\u001b[0m\u001b[0mcolors\u001b[0m\u001b[0;34m,\u001b[0m \u001b[0mlinestyles\u001b[0m\u001b[0;34m=\u001b[0m\u001b[0mlinestyles\u001b[0m\u001b[0;34m,\u001b[0m\u001b[0;34m\u001b[0m\u001b[0;34m\u001b[0m\u001b[0m\n\u001b[1;32m   3031\u001b[0m         \u001b[0mlabel\u001b[0m\u001b[0;34m=\u001b[0m\u001b[0mlabel\u001b[0m\u001b[0;34m,\u001b[0m \u001b[0;34m**\u001b[0m\u001b[0;34m(\u001b[0m\u001b[0;34m{\u001b[0m\u001b[0;34m\"data\"\u001b[0m\u001b[0;34m:\u001b[0m \u001b[0mdata\u001b[0m\u001b[0;34m}\u001b[0m \u001b[0;32mif\u001b[0m \u001b[0mdata\u001b[0m \u001b[0;32mis\u001b[0m \u001b[0;32mnot\u001b[0m \u001b[0;32mNone\u001b[0m \u001b[0;32melse\u001b[0m \u001b[0;34m{\u001b[0m\u001b[0;34m}\u001b[0m\u001b[0;34m)\u001b[0m\u001b[0;34m,\u001b[0m\u001b[0;34m\u001b[0m\u001b[0;34m\u001b[0m\u001b[0m\n",
      "\u001b[0;32m/usr/lib/python3/dist-packages/matplotlib/__init__.py\u001b[0m in \u001b[0;36minner\u001b[0;34m(ax, data, *args, **kwargs)\u001b[0m\n\u001b[1;32m   1599\u001b[0m     \u001b[0;32mdef\u001b[0m \u001b[0minner\u001b[0m\u001b[0;34m(\u001b[0m\u001b[0max\u001b[0m\u001b[0;34m,\u001b[0m \u001b[0;34m*\u001b[0m\u001b[0margs\u001b[0m\u001b[0;34m,\u001b[0m \u001b[0mdata\u001b[0m\u001b[0;34m=\u001b[0m\u001b[0;32mNone\u001b[0m\u001b[0;34m,\u001b[0m \u001b[0;34m**\u001b[0m\u001b[0mkwargs\u001b[0m\u001b[0;34m)\u001b[0m\u001b[0;34m:\u001b[0m\u001b[0;34m\u001b[0m\u001b[0;34m\u001b[0m\u001b[0m\n\u001b[1;32m   1600\u001b[0m         \u001b[0;32mif\u001b[0m \u001b[0mdata\u001b[0m \u001b[0;32mis\u001b[0m \u001b[0;32mNone\u001b[0m\u001b[0;34m:\u001b[0m\u001b[0;34m\u001b[0m\u001b[0;34m\u001b[0m\u001b[0m\n\u001b[0;32m-> 1601\u001b[0;31m             \u001b[0;32mreturn\u001b[0m \u001b[0mfunc\u001b[0m\u001b[0;34m(\u001b[0m\u001b[0max\u001b[0m\u001b[0;34m,\u001b[0m \u001b[0;34m*\u001b[0m\u001b[0mmap\u001b[0m\u001b[0;34m(\u001b[0m\u001b[0msanitize_sequence\u001b[0m\u001b[0;34m,\u001b[0m \u001b[0margs\u001b[0m\u001b[0;34m)\u001b[0m\u001b[0;34m,\u001b[0m \u001b[0;34m**\u001b[0m\u001b[0mkwargs\u001b[0m\u001b[0;34m)\u001b[0m\u001b[0;34m\u001b[0m\u001b[0;34m\u001b[0m\u001b[0m\n\u001b[0m\u001b[1;32m   1602\u001b[0m \u001b[0;34m\u001b[0m\u001b[0m\n\u001b[1;32m   1603\u001b[0m         \u001b[0mbound\u001b[0m \u001b[0;34m=\u001b[0m \u001b[0mnew_sig\u001b[0m\u001b[0;34m.\u001b[0m\u001b[0mbind\u001b[0m\u001b[0;34m(\u001b[0m\u001b[0max\u001b[0m\u001b[0;34m,\u001b[0m \u001b[0;34m*\u001b[0m\u001b[0margs\u001b[0m\u001b[0;34m,\u001b[0m \u001b[0;34m**\u001b[0m\u001b[0mkwargs\u001b[0m\u001b[0;34m)\u001b[0m\u001b[0;34m\u001b[0m\u001b[0;34m\u001b[0m\u001b[0m\n",
      "\u001b[0;32m/usr/lib/python3/dist-packages/matplotlib/axes/_axes.py\u001b[0m in \u001b[0;36mvlines\u001b[0;34m(self, x, ymin, ymax, colors, linestyles, label, **kwargs)\u001b[0m\n\u001b[1;32m   1193\u001b[0m         verts = [((thisx, thisymin), (thisx, thisymax))\n\u001b[1;32m   1194\u001b[0m                  for thisx, thisymin, thisymax in zip(x, ymin, ymax)]\n\u001b[0;32m-> 1195\u001b[0;31m         lines = mcoll.LineCollection(verts, colors=colors,\n\u001b[0m\u001b[1;32m   1196\u001b[0m                                      linestyles=linestyles, label=label)\n\u001b[1;32m   1197\u001b[0m         \u001b[0mself\u001b[0m\u001b[0;34m.\u001b[0m\u001b[0madd_collection\u001b[0m\u001b[0;34m(\u001b[0m\u001b[0mlines\u001b[0m\u001b[0;34m,\u001b[0m \u001b[0mautolim\u001b[0m\u001b[0;34m=\u001b[0m\u001b[0;32mFalse\u001b[0m\u001b[0;34m)\u001b[0m\u001b[0;34m\u001b[0m\u001b[0;34m\u001b[0m\u001b[0m\n",
      "\u001b[0;32m/usr/lib/python3/dist-packages/matplotlib/collections.py\u001b[0m in \u001b[0;36m__init__\u001b[0;34m(self, segments, linewidths, colors, antialiaseds, linestyles, offsets, transOffset, norm, cmap, pickradius, zorder, facecolors, **kwargs)\u001b[0m\n\u001b[1;32m   1314\u001b[0m             \u001b[0mantialiaseds\u001b[0m \u001b[0;34m=\u001b[0m \u001b[0;34m(\u001b[0m\u001b[0mmpl\u001b[0m\u001b[0;34m.\u001b[0m\u001b[0mrcParams\u001b[0m\u001b[0;34m[\u001b[0m\u001b[0;34m'lines.antialiased'\u001b[0m\u001b[0;34m]\u001b[0m\u001b[0;34m,\u001b[0m\u001b[0;34m)\u001b[0m\u001b[0;34m\u001b[0m\u001b[0;34m\u001b[0m\u001b[0m\n\u001b[1;32m   1315\u001b[0m \u001b[0;34m\u001b[0m\u001b[0m\n\u001b[0;32m-> 1316\u001b[0;31m         \u001b[0mcolors\u001b[0m \u001b[0;34m=\u001b[0m \u001b[0mmcolors\u001b[0m\u001b[0;34m.\u001b[0m\u001b[0mto_rgba_array\u001b[0m\u001b[0;34m(\u001b[0m\u001b[0mcolors\u001b[0m\u001b[0;34m)\u001b[0m\u001b[0;34m\u001b[0m\u001b[0;34m\u001b[0m\u001b[0m\n\u001b[0m\u001b[1;32m   1317\u001b[0m \u001b[0;34m\u001b[0m\u001b[0m\n\u001b[1;32m   1318\u001b[0m         Collection.__init__(\n",
      "\u001b[0;32m/usr/lib/python3/dist-packages/matplotlib/colors.py\u001b[0m in \u001b[0;36mto_rgba_array\u001b[0;34m(c, alpha)\u001b[0m\n\u001b[1;32m    292\u001b[0m     \u001b[0mresult\u001b[0m \u001b[0;34m=\u001b[0m \u001b[0mnp\u001b[0m\u001b[0;34m.\u001b[0m\u001b[0mempty\u001b[0m\u001b[0;34m(\u001b[0m\u001b[0;34m(\u001b[0m\u001b[0mlen\u001b[0m\u001b[0;34m(\u001b[0m\u001b[0mc\u001b[0m\u001b[0;34m)\u001b[0m\u001b[0;34m,\u001b[0m \u001b[0;36m4\u001b[0m\u001b[0;34m)\u001b[0m\u001b[0;34m,\u001b[0m \u001b[0mfloat\u001b[0m\u001b[0;34m)\u001b[0m\u001b[0;34m\u001b[0m\u001b[0;34m\u001b[0m\u001b[0m\n\u001b[1;32m    293\u001b[0m     \u001b[0;32mfor\u001b[0m \u001b[0mi\u001b[0m\u001b[0;34m,\u001b[0m \u001b[0mcc\u001b[0m \u001b[0;32min\u001b[0m \u001b[0menumerate\u001b[0m\u001b[0;34m(\u001b[0m\u001b[0mc\u001b[0m\u001b[0;34m)\u001b[0m\u001b[0;34m:\u001b[0m\u001b[0;34m\u001b[0m\u001b[0;34m\u001b[0m\u001b[0m\n\u001b[0;32m--> 294\u001b[0;31m         \u001b[0mresult\u001b[0m\u001b[0;34m[\u001b[0m\u001b[0mi\u001b[0m\u001b[0;34m]\u001b[0m \u001b[0;34m=\u001b[0m \u001b[0mto_rgba\u001b[0m\u001b[0;34m(\u001b[0m\u001b[0mcc\u001b[0m\u001b[0;34m,\u001b[0m \u001b[0malpha\u001b[0m\u001b[0;34m)\u001b[0m\u001b[0;34m\u001b[0m\u001b[0;34m\u001b[0m\u001b[0m\n\u001b[0m\u001b[1;32m    295\u001b[0m     \u001b[0;32mreturn\u001b[0m \u001b[0mresult\u001b[0m\u001b[0;34m\u001b[0m\u001b[0;34m\u001b[0m\u001b[0m\n\u001b[1;32m    296\u001b[0m \u001b[0;34m\u001b[0m\u001b[0m\n",
      "\u001b[0;32m/usr/lib/python3/dist-packages/matplotlib/colors.py\u001b[0m in \u001b[0;36mto_rgba\u001b[0;34m(c, alpha)\u001b[0m\n\u001b[1;32m    175\u001b[0m         \u001b[0mrgba\u001b[0m \u001b[0;34m=\u001b[0m \u001b[0;32mNone\u001b[0m\u001b[0;34m\u001b[0m\u001b[0;34m\u001b[0m\u001b[0m\n\u001b[1;32m    176\u001b[0m     \u001b[0;32mif\u001b[0m \u001b[0mrgba\u001b[0m \u001b[0;32mis\u001b[0m \u001b[0;32mNone\u001b[0m\u001b[0;34m:\u001b[0m  \u001b[0;31m# Suppress exception chaining of cache lookup failure.\u001b[0m\u001b[0;34m\u001b[0m\u001b[0;34m\u001b[0m\u001b[0m\n\u001b[0;32m--> 177\u001b[0;31m         \u001b[0mrgba\u001b[0m \u001b[0;34m=\u001b[0m \u001b[0m_to_rgba_no_colorcycle\u001b[0m\u001b[0;34m(\u001b[0m\u001b[0mc\u001b[0m\u001b[0;34m,\u001b[0m \u001b[0malpha\u001b[0m\u001b[0;34m)\u001b[0m\u001b[0;34m\u001b[0m\u001b[0;34m\u001b[0m\u001b[0m\n\u001b[0m\u001b[1;32m    178\u001b[0m         \u001b[0;32mtry\u001b[0m\u001b[0;34m:\u001b[0m\u001b[0;34m\u001b[0m\u001b[0;34m\u001b[0m\u001b[0m\n\u001b[1;32m    179\u001b[0m             \u001b[0m_colors_full_map\u001b[0m\u001b[0;34m.\u001b[0m\u001b[0mcache\u001b[0m\u001b[0;34m[\u001b[0m\u001b[0mc\u001b[0m\u001b[0;34m,\u001b[0m \u001b[0malpha\u001b[0m\u001b[0;34m]\u001b[0m \u001b[0;34m=\u001b[0m \u001b[0mrgba\u001b[0m\u001b[0;34m\u001b[0m\u001b[0;34m\u001b[0m\u001b[0m\n",
      "\u001b[0;32m/usr/lib/python3/dist-packages/matplotlib/colors.py\u001b[0m in \u001b[0;36m_to_rgba_no_colorcycle\u001b[0;34m(c, alpha)\u001b[0m\n\u001b[1;32m    238\u001b[0m         \u001b[0;31m# float)` and `np.array(...).astype(float)` all convert \"0.5\" to 0.5.\u001b[0m\u001b[0;34m\u001b[0m\u001b[0;34m\u001b[0m\u001b[0;34m\u001b[0m\u001b[0m\n\u001b[1;32m    239\u001b[0m         \u001b[0;31m# Test dimensionality to reject single floats.\u001b[0m\u001b[0;34m\u001b[0m\u001b[0;34m\u001b[0m\u001b[0;34m\u001b[0m\u001b[0m\n\u001b[0;32m--> 240\u001b[0;31m         \u001b[0;32mraise\u001b[0m \u001b[0mValueError\u001b[0m\u001b[0;34m(\u001b[0m\u001b[0;34m\"Invalid RGBA argument: {!r}\"\u001b[0m\u001b[0;34m.\u001b[0m\u001b[0mformat\u001b[0m\u001b[0;34m(\u001b[0m\u001b[0morig_c\u001b[0m\u001b[0;34m)\u001b[0m\u001b[0;34m)\u001b[0m\u001b[0;34m\u001b[0m\u001b[0;34m\u001b[0m\u001b[0m\n\u001b[0m\u001b[1;32m    241\u001b[0m     \u001b[0;31m# Return a tuple to prevent the cached value from being modified.\u001b[0m\u001b[0;34m\u001b[0m\u001b[0;34m\u001b[0m\u001b[0;34m\u001b[0m\u001b[0m\n\u001b[1;32m    242\u001b[0m     \u001b[0mc\u001b[0m \u001b[0;34m=\u001b[0m \u001b[0mtuple\u001b[0m\u001b[0;34m(\u001b[0m\u001b[0mc\u001b[0m\u001b[0;34m.\u001b[0m\u001b[0mastype\u001b[0m\u001b[0;34m(\u001b[0m\u001b[0mfloat\u001b[0m\u001b[0;34m)\u001b[0m\u001b[0;34m)\u001b[0m\u001b[0;34m\u001b[0m\u001b[0;34m\u001b[0m\u001b[0m\n",
      "\u001b[0;31mValueError\u001b[0m: Invalid RGBA argument: -0.0"
     ]
    },
    {
     "data": {
      "image/png": "[encoded data removed]",
      "text/plain": [
       "<Figure size 432x288 with 1 Axes>"
      ]
     },
     "metadata": {
      "needs_background": "light"
     },
     "output_type": "display_data"
    }
   ],
   "source": [
    "import timeit\n",
    "from scipy.fftpack import fft, fftfreq\n",
    "\n",
    "\n",
    "tt,xx=generador_senoidal(fs, f0, N, a0, p0)\n",
    "\n",
    "dt = 1 / fs # Espaciado\n",
    "\n",
    "Y = fft(xx) \n",
    "frq = fftfreq(N, dt) # obtengo las frecuencias con fftfreq\n",
    "plt.vlines(frq, 0, Y.imag) # Represento la parte imaginaria\n",
    "plt.ylim(-1, 1)\n",
    "plt.xlabel('Frecuencia (Hz)')\n",
    "plt.ylabel('Amp(V)')\n",
    "\n",
    "\n",
    "\n",
    "\n",
    "\n",
    "the_start = timeit.timeit()\n",
    "print(\"Hello! El tiempo transcurrido fue \")\n",
    "the_end = timeit.timeit()\n",
    "print(the_start - the_end)\n"
   ]
  },
  {
   "cell_type": "markdown",
   "metadata": {},
   "source": [
    "<div class=\"alert alert-block alert-danger\">\n",
    "<b>¡Atención!:</b> Completá la siguiente tabla. Podés guardar tus resultados en la lista **tus_resultados**.\n",
    "</div>"
   ]
  },
  {
   "cell_type": "code",
   "execution_count": 43,
   "metadata": {},
   "outputs": [
    {
     "ename": "ModuleNotFoundError",
     "evalue": "No module named 'pandas'",
     "output_type": "error",
     "traceback": [
      "\u001b[0;31m---------------------------------------------------------------------------\u001b[0m",
      "\u001b[0;31mModuleNotFoundError\u001b[0m                       Traceback (most recent call last)",
      "\u001b[0;32m<ipython-input-43-9c3f074201ef>\u001b[0m in \u001b[0;36m<module>\u001b[0;34m\u001b[0m\n\u001b[0;32m----> 1\u001b[0;31m \u001b[0;32mfrom\u001b[0m \u001b[0mpandas\u001b[0m \u001b[0;32mimport\u001b[0m \u001b[0mDataFrame\u001b[0m\u001b[0;34m\u001b[0m\u001b[0;34m\u001b[0m\u001b[0m\n\u001b[0m\u001b[1;32m      2\u001b[0m \u001b[0;32mfrom\u001b[0m \u001b[0mIPython\u001b[0m\u001b[0;34m.\u001b[0m\u001b[0mdisplay\u001b[0m \u001b[0;32mimport\u001b[0m \u001b[0mHTML\u001b[0m\u001b[0;34m\u001b[0m\u001b[0;34m\u001b[0m\u001b[0m\n\u001b[1;32m      3\u001b[0m \u001b[0;34m\u001b[0m\u001b[0m\n\u001b[1;32m      4\u001b[0m \u001b[0;34m\u001b[0m\u001b[0m\n\u001b[1;32m      5\u001b[0m \u001b[0;31m#######################################\u001b[0m\u001b[0;34m\u001b[0m\u001b[0;34m\u001b[0m\u001b[0;34m\u001b[0m\u001b[0m\n",
      "\u001b[0;31mModuleNotFoundError\u001b[0m: No module named 'pandas'"
     ]
    }
   ],
   "source": [
    "from pandas import DataFrame\n",
    "from IPython.display import HTML\n",
    "\n",
    "\n",
    "#######################################\n",
    "# Tu simulación que genere resultados #\n",
    "#######################################\n",
    "\n",
    "tus_resultados = [ ['--'], \n",
    "                   [''], # <-- acá debería haber numeritos :)\n",
    "                   [''], # <-- acá debería haber numeritos :)\n",
    "                   [''], # <-- acá debería haber numeritos :)\n",
    "                   [''], # <-- acá debería haber numeritos :)\n",
    "                   [''], # <-- acá debería haber numeritos :)\n",
    "                   [''], # <-- acá debería haber numeritos :)\n",
    "                   [''], # <-- acá debería haber numeritos :)\n",
    "                   ['']  # <-- acá debería haber numeritos :)\n",
    "                 ]\n",
    "df = DataFrame(tus_resultados, columns=['tiempo transcurrido (s)'],\n",
    "               index=['Tamaño de la señal N', \n",
    "                      16, \n",
    "                      32, \n",
    "                      64, \n",
    "                      128,\n",
    "                      256,\n",
    "                      512,\n",
    "                      1024,\n",
    "                      2048\n",
    "                     ])\n",
    "HTML(df.to_html())\n"
   ]
  },
  {
   "cell_type": "markdown",
   "metadata": {},
   "source": [
    "<div class=\"alert alert-block alert-info\">\n",
    "<b>3.a)</b> Verifique el efecto del leakage para una senoidal de $f_0 = f_S/4 + f_D$ siendo $f_D = (0.01,\\, 0.25,\\, 0.5)$, es decir una frecuencia de desintonía respecto al bin $f_S/4$.\n",
    "</div>"
   ]
  },
  {
   "cell_type": "markdown",
   "metadata": {},
   "source": [
    "<div class=\"alert alert-block alert-danger\">\n",
    "<b>¡Atención!:</b> Completá la siguiente tabla. Podés guardar tus resultados en la lista **tus_resultados**.\n",
    "</div>"
   ]
  },
  {
   "cell_type": "code",
   "execution_count": 33,
   "metadata": {},
   "outputs": [
    {
     "data": {
      "text/html": [
       "<table border=\"1\" class=\"dataframe\">\n",
       "  <thead>\n",
       "    <tr style=\"text-align: right;\">\n",
       "      <th></th>\n",
       "      <th>Frecuencia central</th>\n",
       "      <th>Primer adyacente</th>\n",
       "      <th>Resto de frecuencias</th>\n",
       "    </tr>\n",
       "  </thead>\n",
       "  <tbody>\n",
       "    <tr>\n",
       "      <th>$f_0$ \\ expr. matemática</th>\n",
       "      <td>$ \\lvert X(f_0) \\lvert$</td>\n",
       "      <td>$ \\lvert X(f_0+1) \\lvert $</td>\n",
       "      <td>$\\sum_{i=F} \\lvert X(f_i) \\lvert ^2 $</td>\n",
       "    </tr>\n",
       "    <tr>\n",
       "      <th></th>\n",
       "      <td></td>\n",
       "      <td></td>\n",
       "      <td>$F:f \\neq f_0$</td>\n",
       "    </tr>\n",
       "    <tr>\n",
       "      <th>$f_S/4$</th>\n",
       "      <td></td>\n",
       "      <td></td>\n",
       "      <td></td>\n",
       "    </tr>\n",
       "    <tr>\n",
       "      <th>$f_S/4+0.01$</th>\n",
       "      <td></td>\n",
       "      <td></td>\n",
       "      <td></td>\n",
       "    </tr>\n",
       "    <tr>\n",
       "      <th>$f_S/4+0.25$</th>\n",
       "      <td></td>\n",
       "      <td></td>\n",
       "      <td></td>\n",
       "    </tr>\n",
       "    <tr>\n",
       "      <th>$f_S/4+0.5$</th>\n",
       "      <td></td>\n",
       "      <td></td>\n",
       "      <td></td>\n",
       "    </tr>\n",
       "  </tbody>\n",
       "</table>"
      ],
      "text/plain": [
       "<IPython.core.display.HTML object>"
      ]
     },
     "execution_count": 33,
     "metadata": {},
     "output_type": "execute_result"
    }
   ],
   "source": [
    "#######################################\n",
    "# Tu simulación que genere resultados #\n",
    "#######################################\n",
    "\n",
    "tus_resultados = [ ['$ \\lvert X(f_0) \\lvert$', '$ \\lvert X(f_0+1) \\lvert $', '$\\sum_{i=F} \\lvert X(f_i) \\lvert ^2 $'], \n",
    "                   ['',                        '',                           '$F:f \\neq f_0$'], \n",
    "                  ['', '', ''], # <-- acá debería haber numeritos :)\n",
    "                  ['', '', ''], # <-- acá debería haber numeritos :)\n",
    "                  ['', '', ''], # <-- acá debería haber numeritos :)\n",
    "                  ['', '', '']  # <-- acá debería haber numeritos :)\n",
    "                 ]\n",
    "df = DataFrame(tus_resultados, columns=['Frecuencia central', 'Primer adyacente', 'Resto de frecuencias'],\n",
    "               index=['$f_0$ \\ expr. matemática', \n",
    "                      '', \n",
    "                      '$f_S/4$', \n",
    "                      '$f_S/4+0.01$', \n",
    "                      '$f_S/4+0.25$', \n",
    "                      '$f_S/4+0.5$'])\n",
    "HTML(df.to_html())\n"
   ]
  },
  {
   "cell_type": "markdown",
   "metadata": {},
   "source": [
    "<div class=\"alert alert-block alert-info\">\n",
    "<b>3.b)</b> Verifique qué ocurre si a la señal de $f_0 = f_S/4 + 0.5$ se le agregan ceros para prolongar su duración. Es decir si la señal tiene N muestras, agregue $M_j$ ceros siendo $M_j = ( \\frac{N}{10},\\, N,\\, 10N)$.\n",
    "</div>"
   ]
  },
  {
   "cell_type": "code",
   "execution_count": 12,
   "metadata": {},
   "outputs": [],
   "source": [
    "# Inserte aquí su código"
   ]
  },
  {
   "cell_type": "markdown",
   "metadata": {},
   "source": [
    "**3.c)** ¿Ha variado la resolución espectral en los casos de 3.b?"
   ]
  },
  {
   "cell_type": "markdown",
   "metadata": {},
   "source": [
    "<div class=\"alert alert-block alert-warning\">\n",
    "<b>Respuesta:</b> Escriba aquí su respuesta.\n",
    "</div>"
   ]
  },
  {
   "cell_type": "markdown",
   "metadata": {},
   "source": [
    "**3.d)** ¿Cuál es el efecto que se produce en cada caso? Esta técnica se conoce como Zero padding."
   ]
  },
  {
   "cell_type": "markdown",
   "metadata": {},
   "source": [
    "<div class=\"alert alert-block alert-warning\">\n",
    "<b>Respuesta:</b> Escriba aquí su respuesta.\n",
    "</div>"
   ]
  },
  {
   "cell_type": "markdown",
   "metadata": {},
   "source": [
    "**3.e)** Analice cuál es la frecuencia  $\\hat{f}_0 = \\mathop{arg\\ max}_f \\{\\lvert X(f) \\rvert \\}$ a la que ocurre el máximo del espectro y en cuánto difiere de $f_0$ en términos porcentuales."
   ]
  },
  {
   "cell_type": "code",
   "execution_count": 32,
   "metadata": {},
   "outputs": [
    {
     "data": {
      "text/html": [
       "<table border=\"1\" class=\"dataframe\">\n",
       "  <thead>\n",
       "    <tr style=\"text-align: right;\">\n",
       "      <th></th>\n",
       "      <th>$e_\\%$</th>\n",
       "    </tr>\n",
       "  </thead>\n",
       "  <tbody>\n",
       "    <tr>\n",
       "      <th>0</th>\n",
       "      <td></td>\n",
       "    </tr>\n",
       "    <tr>\n",
       "      <th>$N/10$</th>\n",
       "      <td></td>\n",
       "    </tr>\n",
       "    <tr>\n",
       "      <th>$N$</th>\n",
       "      <td></td>\n",
       "    </tr>\n",
       "    <tr>\n",
       "      <th>$10N$</th>\n",
       "      <td></td>\n",
       "    </tr>\n",
       "  </tbody>\n",
       "</table>"
      ],
      "text/plain": [
       "<IPython.core.display.HTML object>"
      ]
     },
     "execution_count": 32,
     "metadata": {},
     "output_type": "execute_result"
    }
   ],
   "source": [
    "#######################################\n",
    "# Tu simulación que genere resultados #\n",
    "#######################################\n",
    "\n",
    "tus_resultados = ['', # <-- acá debería haber numeritos :)\n",
    "                  '', # <-- acá debería haber numeritos :)\n",
    "                  '', # <-- acá debería haber numeritos :)\n",
    "                  '' # <-- acá debería haber numeritos :)\n",
    "                 ]\n",
    "df = DataFrame(tus_resultados, columns=['$e_\\%$'],\n",
    "               index=['0',\n",
    "                      '$N/10$', \n",
    "                      '$N$', \n",
    "                      '$10N$'])\n",
    "HTML(df.to_html())\n"
   ]
  },
  {
   "cell_type": "markdown",
   "metadata": {},
   "source": [
    "<div class=\"alert alert-block alert-info\">\n",
    "<b>4)</b> \n",
    "Para cada señal propuesta complete los valores que se indican en las siguientes consignas.\n",
    "</div>"
   ]
  },
  {
   "cell_type": "markdown",
   "metadata": {},
   "source": [
    "+ En la tabla de resultados de cada inciso, en la fila indicada con **predicción** responda conceptualmente qué contenido espectral debería obtener tras evaluar su FFT (sin realizar ninguna simulación).\n",
    "+ Calcule su espectro y discuta la predicción con los resultados obtenidos de la **simulación**. Intente discutir las diferencias si las hubiera en las respuestas de cada inciso.\n",
    "+ Preste especial atención en su discusión a:\n",
    "  * La energía total de la señal\n",
    "  * La energía del tono en particular\n",
    "  * La localización del tono en el espectro\n",
    "+ Siga las indicaciones particulares para cada señal.\n"
   ]
  },
  {
   "cell_type": "markdown",
   "metadata": {},
   "source": [
    "<div class=\"alert alert-block alert-success\">\n",
    "<b>Ayuda:</b> Las siguientes señales pueden generarse a partir de una senoidal *patrón* siguiendo las consignas de la derecha. \n",
    "</div>"
   ]
  },
  {
   "cell_type": "markdown",
   "metadata": {},
   "source": [
    "<table width=\"80%\" cellpadding=\"7\" cellspacing=\"0\">\n",
    "\t<col width=\"50%\">\n",
    "\t<col width=\"50%\">\n",
    "\t<tbody>\n",
    "\t\t<tr valign=\"top\">\n",
    "\t\t\t<td width=\"296\" style=\"border-top: none; border-bottom: none; border-left: none; border-right: none; padding: 0cm\">\n",
    "\t\t\t\t<p>\n",
    "                    <img src=\"./1.png\" align=\"left\" width=\"100%\" /> \n",
    "                </p>\n",
    "\t\t\t</td>\n",
    "\t\t\t<td width=\"267\" style=\"border-top: none; border-bottom: none; border-left: none; border-right: none; padding-top: 0cm; padding-bottom: 0cm; padding-left: 0.19cm; padding-right: 0cm\">\n",
    "\t\t\t\t<p style=\"margin-bottom: 0cm\"><span lang=\"es-AR\">4.a) Senoidal\n",
    "\t\t\t\tde **energía normalizada** y frecuencia $f_0 = 9 \\cdot f_S/N$. </span></font>\n",
    "\t\t\t\t</p>\n",
    "\t\t\t</td>\n",
    "\t\t</tr>\n",
    "\t</tbody>\n",
    "</table>\n",
    "        "
   ]
  },
  {
   "cell_type": "code",
   "execution_count": 27,
   "metadata": {},
   "outputs": [
    {
     "data": {
      "text/html": [
       "<table border=\"1\" class=\"dataframe\">\n",
       "  <thead>\n",
       "    <tr style=\"text-align: right;\">\n",
       "      <th></th>\n",
       "      <th>Energía total</th>\n",
       "      <th>Energía en $f_0$</th>\n",
       "      <th>Máximo de Energía</th>\n",
       "    </tr>\n",
       "  </thead>\n",
       "  <tbody>\n",
       "    <tr>\n",
       "      <th>$f_0$ \\ expr. matemática</th>\n",
       "      <td>$\\sum_{f=0}^{f_S/2} \\lvert X(f) \\rvert ^2$</td>\n",
       "      <td>$ \\lvert X(f_0) \\rvert ^2 $</td>\n",
       "      <td>$ \\mathop{arg\\ max}_f \\{\\lvert X(f) \\rvert ^2\\} $</td>\n",
       "    </tr>\n",
       "    <tr>\n",
       "      <th></th>\n",
       "      <td></td>\n",
       "      <td></td>\n",
       "      <td>$f \\in [0:f_S/2]$</td>\n",
       "    </tr>\n",
       "    <tr>\n",
       "      <th></th>\n",
       "      <td></td>\n",
       "      <td></td>\n",
       "      <td></td>\n",
       "    </tr>\n",
       "    <tr>\n",
       "      <th>predicción</th>\n",
       "      <td></td>\n",
       "      <td></td>\n",
       "      <td></td>\n",
       "    </tr>\n",
       "    <tr>\n",
       "      <th></th>\n",
       "      <td></td>\n",
       "      <td></td>\n",
       "      <td></td>\n",
       "    </tr>\n",
       "    <tr>\n",
       "      <th>simulación</th>\n",
       "      <td></td>\n",
       "      <td></td>\n",
       "      <td></td>\n",
       "    </tr>\n",
       "  </tbody>\n",
       "</table>"
      ],
      "text/plain": [
       "<IPython.core.display.HTML object>"
      ]
     },
     "execution_count": 27,
     "metadata": {},
     "output_type": "execute_result"
    }
   ],
   "source": [
    "#######################################\n",
    "# Tu simulación que genere resultados #\n",
    "#######################################\n",
    "\n",
    "tus_resultados = [ ['$\\sum_{f=0}^{f_S/2} \\lvert X(f) \\rvert ^2$', '$ \\lvert X(f_0) \\rvert ^2 $', '$ \\mathop{arg\\ max}_f \\{\\lvert X(f) \\rvert ^2\\} $'], \n",
    "                   ['',                                     '',                           '$f \\in [0:f_S/2]$'], \n",
    "                  ['', '', ''], \n",
    "                  ['', '', ''], # <-- completar acá\n",
    "                  ['', '', ''], \n",
    "                  ['', '', '']  # <-- completar acá\n",
    "                 ]\n",
    "df = DataFrame(tus_resultados, columns=['Energía total', 'Energía en $f_0$', 'Máximo de Energía'],\n",
    "               index=['$f_0$ \\ expr. matemática', \n",
    "                      '', \n",
    "                      '', \n",
    "                      'predicción', \n",
    "                      '', \n",
    "                      'simulación'])\n",
    "HTML(df.to_html())\n"
   ]
  },
  {
   "cell_type": "markdown",
   "metadata": {},
   "source": [
    "<table width=\"80%\" cellpadding=\"7\" cellspacing=\"0\">\n",
    "\t<col width=\"50%\">\n",
    "\t<col width=\"50%\">\n",
    "\t<tbody>\n",
    "\t\t<tr valign=\"top\">\n",
    "\t\t\t<td width=\"296\" style=\"border-top: none; border-bottom: none; border-left: none; border-right: none; padding: 0cm\">\n",
    "\t\t\t\t<p>\n",
    "                    <img src=\"./2.png\" align=\"left\" width=\"100%\" /> \n",
    "                </p>\n",
    "\t\t\t</td>\n",
    "\t\t\t<td width=\"267\" style=\"border-top: none; border-bottom: none; border-left: none; border-right: none; padding-top: 0cm; padding-bottom: 0cm; padding-left: 0.19cm; padding-right: 0cm\">\n",
    "\t\t\t\t<p style=\"margin-bottom: 0cm\"><span lang=\"es-AR\">4.b) **1 solo ciclo** de la misma senoidal\n",
    "\t\t\t\tde **energía normalizada** y frecuencia $f_0 = 9 \\cdot f_S/N$. </span></font>\n",
    "\t\t\t\t</p>\n",
    "\t\t\t</td>\n",
    "\t\t</tr>\n",
    "\t</tbody>\n",
    "</table>\n",
    "        "
   ]
  },
  {
   "cell_type": "code",
   "execution_count": 166,
   "metadata": {},
   "outputs": [
    {
     "data": {
      "text/html": [
       "<table border=\"1\" class=\"dataframe\">\n",
       "  <thead>\n",
       "    <tr style=\"text-align: right;\">\n",
       "      <th></th>\n",
       "      <th>Energía total</th>\n",
       "      <th>Energía en $f_0$</th>\n",
       "      <th>Máximo de Energía</th>\n",
       "    </tr>\n",
       "  </thead>\n",
       "  <tbody>\n",
       "    <tr>\n",
       "      <th>$f_0$ \\ expr. matemática</th>\n",
       "      <td>$\\sum_{f=0}^{f_S/2} \\lvert X(f) \\rvert ^2$</td>\n",
       "      <td>$ \\lvert X(f_0) \\rvert ^2 $</td>\n",
       "      <td>$ \\mathop{arg\\ max}_f \\{\\lvert X(f) \\rvert ^2\\} $</td>\n",
       "    </tr>\n",
       "    <tr>\n",
       "      <th></th>\n",
       "      <td></td>\n",
       "      <td></td>\n",
       "      <td>$f \\in [0:f_S/2]$</td>\n",
       "    </tr>\n",
       "    <tr>\n",
       "      <th></th>\n",
       "      <td></td>\n",
       "      <td></td>\n",
       "      <td></td>\n",
       "    </tr>\n",
       "    <tr>\n",
       "      <th>predicción</th>\n",
       "      <td></td>\n",
       "      <td></td>\n",
       "      <td></td>\n",
       "    </tr>\n",
       "    <tr>\n",
       "      <th></th>\n",
       "      <td></td>\n",
       "      <td></td>\n",
       "      <td></td>\n",
       "    </tr>\n",
       "    <tr>\n",
       "      <th>simulación</th>\n",
       "      <td></td>\n",
       "      <td></td>\n",
       "      <td></td>\n",
       "    </tr>\n",
       "  </tbody>\n",
       "</table>"
      ],
      "text/plain": [
       "<IPython.core.display.HTML object>"
      ]
     },
     "execution_count": 166,
     "metadata": {},
     "output_type": "execute_result"
    }
   ],
   "source": [
    "#######################################\n",
    "# Tu simulación que genere resultados #\n",
    "#######################################\n",
    "\n",
    "tus_resultados = [ ['$\\sum_{f=0}^{f_S/2} \\lvert X(f) \\rvert ^2$', '$ \\lvert X(f_0) \\rvert ^2 $', '$ \\mathop{arg\\ max}_f \\{\\lvert X(f) \\rvert ^2\\} $'], \n",
    "                   ['',                                     '',                           '$f \\in [0:f_S/2]$'], \n",
    "                  ['', '', ''], \n",
    "                  ['', '', ''], # <-- completar acá\n",
    "                  ['', '', ''], \n",
    "                  ['', '', '']  # <-- completar acá\n",
    "                 ]\n",
    "df = DataFrame(tus_resultados, columns=['Energía total', 'Energía en $f_0$', 'Máximo de Energía'],\n",
    "               index=['$f_0$ \\ expr. matemática', \n",
    "                      '', \n",
    "                      '', \n",
    "                      'predicción', \n",
    "                      '', \n",
    "                      'simulación'])\n",
    "HTML(df.to_html())\n"
   ]
  },
  {
   "cell_type": "markdown",
   "metadata": {},
   "source": [
    "Observe el resultado y compare sus resultados con el punto anterior. ¿Qué ha cambiado? ¿Cuánto vale la energía de un solo ciclo de senoidal respecto al caso anterior?"
   ]
  },
  {
   "cell_type": "markdown",
   "metadata": {},
   "source": [
    "<div class=\"alert alert-block alert-warning\">\n",
    "<b>Respuesta:</b> Escriba aquí su respuesta.\n",
    "</div>"
   ]
  },
  {
   "cell_type": "markdown",
   "metadata": {},
   "source": [
    "<table width=\"80%\" cellpadding=\"7\" cellspacing=\"0\">\n",
    "\t<col width=\"50%\">\n",
    "\t<col width=\"50%\">\n",
    "\t<tbody>\n",
    "\t\t<tr valign=\"top\">\n",
    "\t\t\t<td width=\"296\" style=\"border-top: none; border-bottom: none; border-left: none; border-right: none; padding: 0cm\">\n",
    "\t\t\t\t<p>\n",
    "                    <img src=\"./3.png\" align=\"left\" width=\"100%\" /> \n",
    "                </p>\n",
    "\t\t\t</td>\n",
    "\t\t\t<td width=\"267\" style=\"border-top: none; border-bottom: none; border-left: none; border-right: none; padding-top: 0cm; padding-bottom: 0cm; padding-left: 0.19cm; padding-right: 0cm\">\n",
    "\t\t\t\t<p style=\"margin-bottom: 0cm\"><span lang=\"es-AR\">4.c) 1 solo ciclo de la misma senoidal\n",
    "\t\t\t\tde energía normalizada y frecuencia $f_0 = 9 \\cdot f_S/N$ **pero demorado un tiempo igual a dos ciclos**. </span></font>\n",
    "\t\t\t\t</p>\n",
    "\t\t\t</td>\n",
    "\t\t</tr>\n",
    "\t</tbody>\n",
    "</table>\n",
    "        "
   ]
  },
  {
   "cell_type": "code",
   "execution_count": 167,
   "metadata": {},
   "outputs": [
    {
     "data": {
      "text/html": [
       "<table border=\"1\" class=\"dataframe\">\n",
       "  <thead>\n",
       "    <tr style=\"text-align: right;\">\n",
       "      <th></th>\n",
       "      <th>Energía total</th>\n",
       "      <th>Energía en $f_0$</th>\n",
       "      <th>Máximo de Energía</th>\n",
       "    </tr>\n",
       "  </thead>\n",
       "  <tbody>\n",
       "    <tr>\n",
       "      <th>$f_0$ \\ expr. matemática</th>\n",
       "      <td>$\\sum_{f=0}^{f_S/2} \\lvert X(f) \\rvert ^2$</td>\n",
       "      <td>$ \\lvert X(f_0) \\rvert ^2 $</td>\n",
       "      <td>$ \\mathop{arg\\ max}_f \\{\\lvert X(f) \\rvert ^2\\} $</td>\n",
       "    </tr>\n",
       "    <tr>\n",
       "      <th></th>\n",
       "      <td></td>\n",
       "      <td></td>\n",
       "      <td>$f \\in [0:f_S/2]$</td>\n",
       "    </tr>\n",
       "    <tr>\n",
       "      <th></th>\n",
       "      <td></td>\n",
       "      <td></td>\n",
       "      <td></td>\n",
       "    </tr>\n",
       "    <tr>\n",
       "      <th>predicción</th>\n",
       "      <td></td>\n",
       "      <td></td>\n",
       "      <td></td>\n",
       "    </tr>\n",
       "    <tr>\n",
       "      <th></th>\n",
       "      <td></td>\n",
       "      <td></td>\n",
       "      <td></td>\n",
       "    </tr>\n",
       "    <tr>\n",
       "      <th>simulación</th>\n",
       "      <td></td>\n",
       "      <td></td>\n",
       "      <td></td>\n",
       "    </tr>\n",
       "  </tbody>\n",
       "</table>"
      ],
      "text/plain": [
       "<IPython.core.display.HTML object>"
      ]
     },
     "execution_count": 167,
     "metadata": {},
     "output_type": "execute_result"
    }
   ],
   "source": [
    "#######################################\n",
    "# Tu simulación que genere resultados #\n",
    "#######################################\n",
    "\n",
    "tus_resultados = [ ['$\\sum_{f=0}^{f_S/2} \\lvert X(f) \\rvert ^2$', '$ \\lvert X(f_0) \\rvert ^2 $', '$ \\mathop{arg\\ max}_f \\{\\lvert X(f) \\rvert ^2\\} $'], \n",
    "                   ['',                                     '',                           '$f \\in [0:f_S/2]$'], \n",
    "                  ['', '', ''], \n",
    "                  ['', '', ''], # <-- completar acá\n",
    "                  ['', '', ''], \n",
    "                  ['', '', '']  # <-- completar acá\n",
    "                 ]\n",
    "df = DataFrame(tus_resultados, columns=['Energía total', 'Energía en $f_0$', 'Máximo de Energía'],\n",
    "               index=['$f_0$ \\ expr. matemática', \n",
    "                      '', \n",
    "                      '', \n",
    "                      'predicción', \n",
    "                      '', \n",
    "                      'simulación'])\n",
    "HTML(df.to_html())\n"
   ]
  },
  {
   "cell_type": "markdown",
   "metadata": {},
   "source": [
    "En este caso, ¿Qué ha cambiado respecto al anterior? ¿Cómo se manifiesta en el dominio frecuencial?"
   ]
  },
  {
   "cell_type": "markdown",
   "metadata": {},
   "source": [
    "<div class=\"alert alert-block alert-warning\">\n",
    "<b>Respuesta:</b> Escriba aquí su respuesta.\n",
    "</div>"
   ]
  },
  {
   "cell_type": "markdown",
   "metadata": {},
   "source": [
    "<table width=\"80%\" cellpadding=\"7\" cellspacing=\"0\">\n",
    "\t<col width=\"50%\">\n",
    "\t<col width=\"50%\">\n",
    "\t<tbody>\n",
    "\t\t<tr valign=\"top\">\n",
    "\t\t\t<td width=\"296\" style=\"border-top: none; border-bottom: none; border-left: none; border-right: none; padding: 0cm\">\n",
    "\t\t\t\t<p>\n",
    "                    <img src=\"./4.png\" align=\"left\" width=\"100%\" /> \n",
    "                </p>\n",
    "\t\t\t</td>\n",
    "\t\t\t<td width=\"267\" style=\"border-top: none; border-bottom: none; border-left: none; border-right: none; padding-top: 0cm; padding-bottom: 0cm; padding-left: 0.19cm; padding-right: 0cm\">\n",
    "\t\t\t\t<p style=\"margin-bottom: 0cm\"><span lang=\"es-AR\">4.d) 1 solo ciclo de la misma senoidal utilizada hasta ahora, y otro ciclo de idénticas características pero de $f_1 = 8 \\cdot f_S/N$ y demorado aproximadamente como se observa a la izquierda. </span></font>\n",
    "\t\t\t\t</p>\n",
    "\t\t\t</td>\n",
    "\t\t</tr>\n",
    "\t</tbody>\n",
    "</table>\n",
    "        "
   ]
  },
  {
   "cell_type": "code",
   "execution_count": 168,
   "metadata": {},
   "outputs": [
    {
     "data": {
      "text/html": [
       "<table border=\"1\" class=\"dataframe\">\n",
       "  <thead>\n",
       "    <tr style=\"text-align: right;\">\n",
       "      <th></th>\n",
       "      <th>Energía total</th>\n",
       "      <th>Energía en $f_0$</th>\n",
       "      <th>Máximo de Energía</th>\n",
       "    </tr>\n",
       "  </thead>\n",
       "  <tbody>\n",
       "    <tr>\n",
       "      <th>$f_0$ \\ expr. matemática</th>\n",
       "      <td>$\\sum_{f=0}^{f_S/2} \\lvert X(f) \\rvert ^2$</td>\n",
       "      <td>$ \\lvert X(f_0) \\rvert ^2 $</td>\n",
       "      <td>$ \\mathop{arg\\ max}_f \\{\\lvert X(f) \\rvert ^2\\} $</td>\n",
       "    </tr>\n",
       "    <tr>\n",
       "      <th></th>\n",
       "      <td></td>\n",
       "      <td></td>\n",
       "      <td>$f \\in [0:f_S/2]$</td>\n",
       "    </tr>\n",
       "    <tr>\n",
       "      <th></th>\n",
       "      <td></td>\n",
       "      <td></td>\n",
       "      <td></td>\n",
       "    </tr>\n",
       "    <tr>\n",
       "      <th>predicción</th>\n",
       "      <td></td>\n",
       "      <td></td>\n",
       "      <td></td>\n",
       "    </tr>\n",
       "    <tr>\n",
       "      <th></th>\n",
       "      <td></td>\n",
       "      <td></td>\n",
       "      <td></td>\n",
       "    </tr>\n",
       "    <tr>\n",
       "      <th>simulación</th>\n",
       "      <td></td>\n",
       "      <td></td>\n",
       "      <td></td>\n",
       "    </tr>\n",
       "  </tbody>\n",
       "</table>"
      ],
      "text/plain": [
       "<IPython.core.display.HTML object>"
      ]
     },
     "execution_count": 168,
     "metadata": {},
     "output_type": "execute_result"
    }
   ],
   "source": [
    "#######################################\n",
    "# Tu simulación que genere resultados #\n",
    "#######################################\n",
    "\n",
    "tus_resultados = [ ['$\\sum_{f=0}^{f_S/2} \\lvert X(f) \\rvert ^2$', '$ \\lvert X(f_0) \\rvert ^2 $', '$ \\mathop{arg\\ max}_f \\{\\lvert X(f) \\rvert ^2\\} $'], \n",
    "                   ['',                                     '',                           '$f \\in [0:f_S/2]$'], \n",
    "                  ['', '', ''], \n",
    "                  ['', '', ''], # <-- completar acá\n",
    "                  ['', '', ''], \n",
    "                  ['', '', '']  # <-- completar acá\n",
    "                 ]\n",
    "df = DataFrame(tus_resultados, columns=['Energía total', 'Energía en $f_0$', 'Máximo de Energía'],\n",
    "               index=['$f_0$ \\ expr. matemática', \n",
    "                      '', \n",
    "                      '', \n",
    "                      'predicción', \n",
    "                      '', \n",
    "                      'simulación'])\n",
    "HTML(df.to_html())\n"
   ]
  },
  {
   "cell_type": "markdown",
   "metadata": {},
   "source": [
    "¿Puede localizar ambas componentes en este espectro? ¿Cómo lo haría?"
   ]
  },
  {
   "cell_type": "markdown",
   "metadata": {},
   "source": [
    "<div class=\"alert alert-block alert-warning\">\n",
    "<b>Respuesta:</b> Escriba aquí su respuesta.\n",
    "</div>"
   ]
  },
  {
   "cell_type": "markdown",
   "metadata": {},
   "source": [
    "<table width=\"80%\" cellpadding=\"7\" cellspacing=\"0\">\n",
    "\t<col width=\"50%\">\n",
    "\t<col width=\"50%\">\n",
    "\t<tbody>\n",
    "\t\t<tr valign=\"top\">\n",
    "\t\t\t<td width=\"296\" style=\"border-top: none; border-bottom: none; border-left: none; border-right: none; padding: 0cm\">\n",
    "\t\t\t\t<p>\n",
    "                    <img src=\"./5.png\" align=\"left\" width=\"100%\" /> \n",
    "                </p>\n",
    "\t\t\t</td>\n",
    "\t\t\t<td width=\"267\" style=\"border-top: none; border-bottom: none; border-left: none; border-right: none; padding-top: 0cm; padding-bottom: 0cm; padding-left: 0.19cm; padding-right: 0cm\">\n",
    "\t\t\t\t<p style=\"margin-bottom: 0cm\"><span lang=\"es-AR\">4.e) Idéntico al caso anterior salvo que se invierte la ocurrencia de las señales. </span></font>\n",
    "\t\t\t\t</p>\n",
    "\t\t\t</td>\n",
    "\t\t</tr>\n",
    "\t</tbody>\n",
    "</table>\n",
    "        "
   ]
  },
  {
   "cell_type": "code",
   "execution_count": 169,
   "metadata": {},
   "outputs": [
    {
     "data": {
      "text/html": [
       "<table border=\"1\" class=\"dataframe\">\n",
       "  <thead>\n",
       "    <tr style=\"text-align: right;\">\n",
       "      <th></th>\n",
       "      <th>Energía total</th>\n",
       "      <th>Energía en $f_0$</th>\n",
       "      <th>Máximo de Energía</th>\n",
       "    </tr>\n",
       "  </thead>\n",
       "  <tbody>\n",
       "    <tr>\n",
       "      <th>$f_0$ \\ expr. matemática</th>\n",
       "      <td>$\\sum_{f=0}^{f_S/2} \\lvert X(f) \\rvert ^2$</td>\n",
       "      <td>$ \\lvert X(f_0) \\rvert ^2 $</td>\n",
       "      <td>$ \\mathop{arg\\ max}_f \\{\\lvert X(f) \\rvert ^2\\} $</td>\n",
       "    </tr>\n",
       "    <tr>\n",
       "      <th></th>\n",
       "      <td></td>\n",
       "      <td></td>\n",
       "      <td>$f \\in [0:f_S/2]$</td>\n",
       "    </tr>\n",
       "    <tr>\n",
       "      <th></th>\n",
       "      <td></td>\n",
       "      <td></td>\n",
       "      <td></td>\n",
       "    </tr>\n",
       "    <tr>\n",
       "      <th>predicción</th>\n",
       "      <td></td>\n",
       "      <td></td>\n",
       "      <td></td>\n",
       "    </tr>\n",
       "    <tr>\n",
       "      <th></th>\n",
       "      <td></td>\n",
       "      <td></td>\n",
       "      <td></td>\n",
       "    </tr>\n",
       "    <tr>\n",
       "      <th>simulación</th>\n",
       "      <td></td>\n",
       "      <td></td>\n",
       "      <td></td>\n",
       "    </tr>\n",
       "  </tbody>\n",
       "</table>"
      ],
      "text/plain": [
       "<IPython.core.display.HTML object>"
      ]
     },
     "execution_count": 169,
     "metadata": {},
     "output_type": "execute_result"
    }
   ],
   "source": [
    "#######################################\n",
    "# Tu simulación que genere resultados #\n",
    "#######################################\n",
    "\n",
    "tus_resultados = [ ['$\\sum_{f=0}^{f_S/2} \\lvert X(f) \\rvert ^2$', '$ \\lvert X(f_0) \\rvert ^2 $', '$ \\mathop{arg\\ max}_f \\{\\lvert X(f) \\rvert ^2\\} $'], \n",
    "                   ['',                                     '',                           '$f \\in [0:f_S/2]$'], \n",
    "                  ['', '', ''], \n",
    "                  ['', '', ''], # <-- completar acá\n",
    "                  ['', '', ''], \n",
    "                  ['', '', '']  # <-- completar acá\n",
    "                 ]\n",
    "df = DataFrame(tus_resultados, columns=['Energía total', 'Energía en $f_0$', 'Máximo de Energía'],\n",
    "               index=['$f_0$ \\ expr. matemática', \n",
    "                      '', \n",
    "                      '', \n",
    "                      'predicción', \n",
    "                      '', \n",
    "                      'simulación'])\n",
    "HTML(df.to_html())\n"
   ]
  },
  {
   "cell_type": "markdown",
   "metadata": {},
   "source": [
    "¿ha cambiado el espectro respecto al caso anterior? ¿Si solo dispone del espectro, puede decir cuál ha ocurrido antes? ¿Resulta útil el análisis de espectral mediante la transformada de Fourier en este caso?"
   ]
  },
  {
   "cell_type": "markdown",
   "metadata": {},
   "source": [
    "<div class=\"alert alert-block alert-warning\">\n",
    "<b>Respuesta:</b> Escriba aquí su respuesta.\n",
    "</div>"
   ]
  },
  {
   "cell_type": "markdown",
   "metadata": {},
   "source": [
    "<table width=\"80%\" cellpadding=\"7\" cellspacing=\"0\">\n",
    "\t<col width=\"50%\">\n",
    "\t<col width=\"50%\">\n",
    "\t<tbody>\n",
    "\t\t<tr valign=\"top\">\n",
    "\t\t\t<td width=\"296\" style=\"border-top: none; border-bottom: none; border-left: none; border-right: none; padding: 0cm\">\n",
    "\t\t\t\t<p>\n",
    "                    <img src=\"./6.png\" align=\"left\" width=\"100%\" /> \n",
    "                </p>\n",
    "\t\t\t</td>\n",
    "\t\t\t<td width=\"267\" style=\"border-top: none; border-bottom: none; border-left: none; border-right: none; padding-top: 0cm; padding-bottom: 0cm; padding-left: 0.19cm; padding-right: 0cm\">\n",
    "\t\t\t\t<p style=\"margin-bottom: 0cm\"><span lang=\"es-AR\">4.f) Arme una señal como la que se muestra a la izquierda, concatenando 3 ciclos de $f_0 = 9 \\cdot f_S/N$.</span></font>\n",
    "\t\t\t\t</p>\n",
    "\t\t\t</td>\n",
    "\t\t</tr>\n",
    "\t</tbody>\n",
    "</table>\n",
    "        "
   ]
  },
  {
   "cell_type": "code",
   "execution_count": 170,
   "metadata": {},
   "outputs": [
    {
     "data": {
      "text/html": [
       "<table border=\"1\" class=\"dataframe\">\n",
       "  <thead>\n",
       "    <tr style=\"text-align: right;\">\n",
       "      <th></th>\n",
       "      <th>Energía total</th>\n",
       "      <th>Energía en $f_0$</th>\n",
       "      <th>Máximo de Energía</th>\n",
       "    </tr>\n",
       "  </thead>\n",
       "  <tbody>\n",
       "    <tr>\n",
       "      <th>$f_0$ \\ expr. matemática</th>\n",
       "      <td>$\\sum_{f=0}^{f_S/2} \\lvert X(f) \\rvert ^2$</td>\n",
       "      <td>$ \\lvert X(f_0) \\rvert ^2 $</td>\n",
       "      <td>$ \\mathop{arg\\ max}_f \\{\\lvert X(f) \\rvert ^2\\} $</td>\n",
       "    </tr>\n",
       "    <tr>\n",
       "      <th></th>\n",
       "      <td></td>\n",
       "      <td></td>\n",
       "      <td>$f \\in [0:f_S/2]$</td>\n",
       "    </tr>\n",
       "    <tr>\n",
       "      <th></th>\n",
       "      <td></td>\n",
       "      <td></td>\n",
       "      <td></td>\n",
       "    </tr>\n",
       "    <tr>\n",
       "      <th>predicción</th>\n",
       "      <td></td>\n",
       "      <td></td>\n",
       "      <td></td>\n",
       "    </tr>\n",
       "    <tr>\n",
       "      <th></th>\n",
       "      <td></td>\n",
       "      <td></td>\n",
       "      <td></td>\n",
       "    </tr>\n",
       "    <tr>\n",
       "      <th>simulación</th>\n",
       "      <td></td>\n",
       "      <td></td>\n",
       "      <td></td>\n",
       "    </tr>\n",
       "  </tbody>\n",
       "</table>"
      ],
      "text/plain": [
       "<IPython.core.display.HTML object>"
      ]
     },
     "execution_count": 170,
     "metadata": {},
     "output_type": "execute_result"
    }
   ],
   "source": [
    "#######################################\n",
    "# Tu simulación que genere resultados #\n",
    "#######################################\n",
    "\n",
    "tus_resultados = [ ['$\\sum_{f=0}^{f_S/2} \\lvert X(f) \\rvert ^2$', '$ \\lvert X(f_0) \\rvert ^2 $', '$ \\mathop{arg\\ max}_f \\{\\lvert X(f) \\rvert ^2\\} $'], \n",
    "                   ['',                                     '',                           '$f \\in [0:f_S/2]$'], \n",
    "                  ['', '', ''], \n",
    "                  ['', '', ''], # <-- completar acá\n",
    "                  ['', '', ''], \n",
    "                  ['', '', '']  # <-- completar acá\n",
    "                 ]\n",
    "df = DataFrame(tus_resultados, columns=['Energía total', 'Energía en $f_0$', 'Máximo de Energía'],\n",
    "               index=['$f_0$ \\ expr. matemática', \n",
    "                      '', \n",
    "                      '', \n",
    "                      'predicción', \n",
    "                      '', \n",
    "                      'simulación'])\n",
    "HTML(df.to_html())\n"
   ]
  },
  {
   "cell_type": "markdown",
   "metadata": {},
   "source": [
    "¿Qué energía tiene la componente $f_0$ en el espectro en comparación con la señal donde los 9 ciclos estaban presentes? ¿Y respecto a la que solo había 1 ciclo?"
   ]
  },
  {
   "cell_type": "markdown",
   "metadata": {},
   "source": [
    "<div class=\"alert alert-block alert-warning\">\n",
    "<b>Respuesta:</b> Escriba aquí su respuesta.\n",
    "</div>"
   ]
  },
  {
   "cell_type": "markdown",
   "metadata": {},
   "source": [
    "<table width=\"80%\" cellpadding=\"7\" cellspacing=\"0\">\n",
    "\t<col width=\"50%\">\n",
    "\t<col width=\"50%\">\n",
    "\t<tbody>\n",
    "\t\t<tr valign=\"top\">\n",
    "\t\t\t<td width=\"296\" style=\"border-top: none; border-bottom: none; border-left: none; border-right: none; padding: 0cm\">\n",
    "\t\t\t\t<p>\n",
    "                    <img src=\"./7.png\" align=\"left\" width=\"100%\" /> \n",
    "                </p>\n",
    "\t\t\t</td>\n",
    "\t\t\t<td width=\"267\" style=\"border-top: none; border-bottom: none; border-left: none; border-right: none; padding-top: 0cm; padding-bottom: 0cm; padding-left: 0.19cm; padding-right: 0cm\">\n",
    "\t\t\t\t<p style=\"margin-bottom: 0cm\"><span lang=\"es-AR\">4.g) Idem anterior, pero cada ciclo con amplitudes (1, 5, 3).</span></font>\n",
    "\t\t\t\t</p>\n",
    "\t\t\t</td>\n",
    "\t\t</tr>\n",
    "\t</tbody>\n",
    "</table>\n",
    "        "
   ]
  },
  {
   "cell_type": "code",
   "execution_count": 171,
   "metadata": {},
   "outputs": [
    {
     "data": {
      "text/html": [
       "<table border=\"1\" class=\"dataframe\">\n",
       "  <thead>\n",
       "    <tr style=\"text-align: right;\">\n",
       "      <th></th>\n",
       "      <th>Energía total</th>\n",
       "      <th>Energía en $f_0$</th>\n",
       "      <th>Máximo de Energía</th>\n",
       "    </tr>\n",
       "  </thead>\n",
       "  <tbody>\n",
       "    <tr>\n",
       "      <th>$f_0$ \\ expr. matemática</th>\n",
       "      <td>$\\sum_{f=0}^{f_S/2} \\lvert X(f) \\rvert ^2$</td>\n",
       "      <td>$ \\lvert X(f_0) \\rvert ^2 $</td>\n",
       "      <td>$ \\mathop{arg\\ max}_f \\{\\lvert X(f) \\rvert ^2\\} $</td>\n",
       "    </tr>\n",
       "    <tr>\n",
       "      <th></th>\n",
       "      <td></td>\n",
       "      <td></td>\n",
       "      <td>$f \\in [0:f_S/2]$</td>\n",
       "    </tr>\n",
       "    <tr>\n",
       "      <th></th>\n",
       "      <td></td>\n",
       "      <td></td>\n",
       "      <td></td>\n",
       "    </tr>\n",
       "    <tr>\n",
       "      <th>predicción</th>\n",
       "      <td></td>\n",
       "      <td></td>\n",
       "      <td></td>\n",
       "    </tr>\n",
       "    <tr>\n",
       "      <th></th>\n",
       "      <td></td>\n",
       "      <td></td>\n",
       "      <td></td>\n",
       "    </tr>\n",
       "    <tr>\n",
       "      <th>simulación</th>\n",
       "      <td></td>\n",
       "      <td></td>\n",
       "      <td></td>\n",
       "    </tr>\n",
       "  </tbody>\n",
       "</table>"
      ],
      "text/plain": [
       "<IPython.core.display.HTML object>"
      ]
     },
     "execution_count": 171,
     "metadata": {},
     "output_type": "execute_result"
    }
   ],
   "source": [
    "#######################################\n",
    "# Tu simulación que genere resultados #\n",
    "#######################################\n",
    "\n",
    "tus_resultados = [ ['$\\sum_{f=0}^{f_S/2} \\lvert X(f) \\rvert ^2$', '$ \\lvert X(f_0) \\rvert ^2 $', '$ \\mathop{arg\\ max}_f \\{\\lvert X(f) \\rvert ^2\\} $'], \n",
    "                   ['',                                     '',                           '$f \\in [0:f_S/2]$'], \n",
    "                  ['', '', ''], \n",
    "                  ['', '', ''], # <-- completar acá\n",
    "                  ['', '', ''], \n",
    "                  ['', '', '']  # <-- completar acá\n",
    "                 ]\n",
    "df = DataFrame(tus_resultados, columns=['Energía total', 'Energía en $f_0$', 'Máximo de Energía'],\n",
    "               index=['$f_0$ \\ expr. matemática', \n",
    "                      '', \n",
    "                      '', \n",
    "                      'predicción', \n",
    "                      '', \n",
    "                      'simulación'])\n",
    "HTML(df.to_html())\n"
   ]
  },
  {
   "cell_type": "markdown",
   "metadata": {},
   "source": [
    "¿Qué energía tiene la componente $f_0$ en el espectro en comparación con el inciso anterior?"
   ]
  },
  {
   "cell_type": "markdown",
   "metadata": {},
   "source": [
    "<div class=\"alert alert-block alert-warning\">\n",
    "<b>Respuesta:</b> Escriba aquí su respuesta.\n",
    "</div>"
   ]
  },
  {
   "cell_type": "markdown",
   "metadata": {},
   "source": [
    "<table width=\"80%\" cellpadding=\"7\" cellspacing=\"0\">\n",
    "\t<col width=\"50%\">\n",
    "\t<col width=\"50%\">\n",
    "\t<tbody>\n",
    "\t\t<tr valign=\"top\">\n",
    "\t\t\t<td width=\"296\" style=\"border-top: none; border-bottom: none; border-left: none; border-right: none; padding: 0cm\">\n",
    "\t\t\t\t<p>\n",
    "                    <img src=\"./8.png\" align=\"left\" width=\"100%\" /> \n",
    "                </p>\n",
    "\t\t\t</td>\n",
    "\t\t\t<td width=\"267\" style=\"border-top: none; border-bottom: none; border-left: none; border-right: none; padding-top: 0cm; padding-bottom: 0cm; padding-left: 0.19cm; padding-right: 0cm\">\n",
    "\t\t\t\t<p style=\"margin-bottom: 0cm\"><span lang=\"es-AR\">4.h) Idem patrón anterior, pero repetido 3 veces.</span></font>\n",
    "\t\t\t\t</p>\n",
    "\t\t\t</td>\n",
    "\t\t</tr>\n",
    "\t</tbody>\n",
    "</table>\n",
    "        "
   ]
  },
  {
   "cell_type": "code",
   "execution_count": 172,
   "metadata": {},
   "outputs": [
    {
     "data": {
      "text/html": [
       "<table border=\"1\" class=\"dataframe\">\n",
       "  <thead>\n",
       "    <tr style=\"text-align: right;\">\n",
       "      <th></th>\n",
       "      <th>Energía total</th>\n",
       "      <th>Energía en $f_0$</th>\n",
       "      <th>Máximo de Energía</th>\n",
       "    </tr>\n",
       "  </thead>\n",
       "  <tbody>\n",
       "    <tr>\n",
       "      <th>$f_0$ \\ expr. matemática</th>\n",
       "      <td>$\\sum_{f=0}^{f_S/2} \\lvert X(f) \\rvert ^2$</td>\n",
       "      <td>$ \\lvert X(f_0) \\rvert ^2 $</td>\n",
       "      <td>$ \\mathop{arg\\ max}_f \\{\\lvert X(f) \\rvert ^2\\} $</td>\n",
       "    </tr>\n",
       "    <tr>\n",
       "      <th></th>\n",
       "      <td></td>\n",
       "      <td></td>\n",
       "      <td>$f \\in [0:f_S/2]$</td>\n",
       "    </tr>\n",
       "    <tr>\n",
       "      <th></th>\n",
       "      <td></td>\n",
       "      <td></td>\n",
       "      <td></td>\n",
       "    </tr>\n",
       "    <tr>\n",
       "      <th>predicción</th>\n",
       "      <td></td>\n",
       "      <td></td>\n",
       "      <td></td>\n",
       "    </tr>\n",
       "    <tr>\n",
       "      <th></th>\n",
       "      <td></td>\n",
       "      <td></td>\n",
       "      <td></td>\n",
       "    </tr>\n",
       "    <tr>\n",
       "      <th>simulación</th>\n",
       "      <td></td>\n",
       "      <td></td>\n",
       "      <td></td>\n",
       "    </tr>\n",
       "  </tbody>\n",
       "</table>"
      ],
      "text/plain": [
       "<IPython.core.display.HTML object>"
      ]
     },
     "execution_count": 172,
     "metadata": {},
     "output_type": "execute_result"
    }
   ],
   "source": [
    "#######################################\n",
    "# Tu simulación que genere resultados #\n",
    "#######################################\n",
    "\n",
    "tus_resultados = [ ['$\\sum_{f=0}^{f_S/2} \\lvert X(f) \\rvert ^2$', '$ \\lvert X(f_0) \\rvert ^2 $', '$ \\mathop{arg\\ max}_f \\{\\lvert X(f) \\rvert ^2\\} $'], \n",
    "                   ['',                                     '',                           '$f \\in [0:f_S/2]$'], \n",
    "                  ['', '', ''], \n",
    "                  ['', '', ''], # <-- completar acá\n",
    "                  ['', '', ''], \n",
    "                  ['', '', '']  # <-- completar acá\n",
    "                 ]\n",
    "df = DataFrame(tus_resultados, columns=['Energía total', 'Energía en $f_0$', 'Máximo de Energía'],\n",
    "               index=['$f_0$ \\ expr. matemática', \n",
    "                      '', \n",
    "                      '', \n",
    "                      'predicción', \n",
    "                      '', \n",
    "                      'simulación'])\n",
    "HTML(df.to_html())\n"
   ]
  },
  {
   "cell_type": "markdown",
   "metadata": {},
   "source": [
    "¿Qué energía tiene la componente $f_0$ en el espectro en comparación con el inciso anterior? ¿Y respecto al que estaban los 9 ciclos presentes pero con la misma amplitud?"
   ]
  },
  {
   "cell_type": "markdown",
   "metadata": {},
   "source": [
    "<div class=\"alert alert-block alert-warning\">\n",
    "<b>Respuesta:</b> Escriba aquí su respuesta.\n",
    "</div>"
   ]
  },
  {
   "cell_type": "markdown",
   "metadata": {},
   "source": [
    "<table width=\"80%\" cellpadding=\"7\" cellspacing=\"0\">\n",
    "\t<col width=\"50%\">\n",
    "\t<col width=\"50%\">\n",
    "\t<tbody>\n",
    "\t\t<tr valign=\"top\">\n",
    "\t\t\t<td width=\"296\" style=\"border-top: none; border-bottom: none; border-left: none; border-right: none; padding: 0cm\">\n",
    "\t\t\t\t<p>\n",
    "                    <img src=\"./9.png\" align=\"left\" width=\"100%\" /> \n",
    "                </p>\n",
    "\t\t\t</td>\n",
    "\t\t\t<td width=\"267\" style=\"border-top: none; border-bottom: none; border-left: none; border-right: none; padding-top: 0cm; padding-bottom: 0cm; padding-left: 0.19cm; padding-right: 0cm\">\n",
    "\t\t\t\t<p style=\"margin-bottom: 0cm\"><span lang=\"es-AR\">4.i) En este caso genere un ciclo de $f_0 = 9 \\cdot f_S/N$, y seguido otro ciclo pero desfasado $\\pi$ radianes.</span></font>\n",
    "\t\t\t\t</p>\n",
    "\t\t\t</td>\n",
    "\t\t</tr>\n",
    "\t</tbody>\n",
    "</table>\n",
    "        "
   ]
  },
  {
   "cell_type": "code",
   "execution_count": 173,
   "metadata": {},
   "outputs": [
    {
     "data": {
      "text/html": [
       "<table border=\"1\" class=\"dataframe\">\n",
       "  <thead>\n",
       "    <tr style=\"text-align: right;\">\n",
       "      <th></th>\n",
       "      <th>Energía total</th>\n",
       "      <th>Energía en $f_0$</th>\n",
       "      <th>Máximo de Energía</th>\n",
       "    </tr>\n",
       "  </thead>\n",
       "  <tbody>\n",
       "    <tr>\n",
       "      <th>$f_0$ \\ expr. matemática</th>\n",
       "      <td>$\\sum_{f=0}^{f_S/2} \\lvert X(f) \\rvert ^2$</td>\n",
       "      <td>$ \\lvert X(f_0) \\rvert ^2 $</td>\n",
       "      <td>$ \\mathop{arg\\ max}_f \\{\\lvert X(f) \\rvert ^2\\} $</td>\n",
       "    </tr>\n",
       "    <tr>\n",
       "      <th></th>\n",
       "      <td></td>\n",
       "      <td></td>\n",
       "      <td>$f \\in [0:f_S/2]$</td>\n",
       "    </tr>\n",
       "    <tr>\n",
       "      <th></th>\n",
       "      <td></td>\n",
       "      <td></td>\n",
       "      <td></td>\n",
       "    </tr>\n",
       "    <tr>\n",
       "      <th>predicción</th>\n",
       "      <td></td>\n",
       "      <td></td>\n",
       "      <td></td>\n",
       "    </tr>\n",
       "    <tr>\n",
       "      <th></th>\n",
       "      <td></td>\n",
       "      <td></td>\n",
       "      <td></td>\n",
       "    </tr>\n",
       "    <tr>\n",
       "      <th>simulación</th>\n",
       "      <td></td>\n",
       "      <td></td>\n",
       "      <td></td>\n",
       "    </tr>\n",
       "  </tbody>\n",
       "</table>"
      ],
      "text/plain": [
       "<IPython.core.display.HTML object>"
      ]
     },
     "execution_count": 173,
     "metadata": {},
     "output_type": "execute_result"
    }
   ],
   "source": [
    "#######################################\n",
    "# Tu simulación que genere resultados #\n",
    "#######################################\n",
    "\n",
    "tus_resultados = [ ['$\\sum_{f=0}^{f_S/2} \\lvert X(f) \\rvert ^2$', '$ \\lvert X(f_0) \\rvert ^2 $', '$ \\mathop{arg\\ max}_f \\{\\lvert X(f) \\rvert ^2\\} $'], \n",
    "                   ['',                                     '',                           '$f \\in [0:f_S/2]$'], \n",
    "                  ['', '', ''], \n",
    "                  ['', '', ''], # <-- completar acá\n",
    "                  ['', '', ''], \n",
    "                  ['', '', '']  # <-- completar acá\n",
    "                 ]\n",
    "df = DataFrame(tus_resultados, columns=['Energía total', 'Energía en $f_0$', 'Máximo de Energía'],\n",
    "               index=['$f_0$ \\ expr. matemática', \n",
    "                      '', \n",
    "                      '', \n",
    "                      'predicción', \n",
    "                      '', \n",
    "                      'simulación'])\n",
    "HTML(df.to_html())\n"
   ]
  },
  {
   "cell_type": "markdown",
   "metadata": {},
   "source": [
    "¿Qué energía tiene la componente $f_0$ en el espectro en comparación con el que estaba un solo ciclo presente?"
   ]
  },
  {
   "cell_type": "markdown",
   "metadata": {},
   "source": [
    "<div class=\"alert alert-block alert-warning\">\n",
    "<b>Respuesta:</b> Escriba aquí su respuesta.\n",
    "</div>"
   ]
  },
  {
   "cell_type": "markdown",
   "metadata": {},
   "source": [
    "Luego de realizar la experimentación y observando los resultados obtenidos discuta si es fiable o no medir en el dominio de Fourier, por medio de la FFT los siguientes aspectos de una señal:\n",
    "\n",
    "    • Energía\n",
    "    • Contenido espectral\n",
    "    • Energía de un determinado ancho de banda o componente espectral\n",
    "    • Localización temporal de un determinado componente espectral."
   ]
  },
  {
   "cell_type": "markdown",
   "metadata": {},
   "source": [
    "<div class=\"alert alert-block alert-warning\">\n",
    "<b>Respuesta:</b> Escriba aquí su respuesta.\n",
    "</div>"
   ]
  },
  {
   "cell_type": "markdown",
   "metadata": {},
   "source": [
    "<div class=\"alert alert-block alert-info\">\n",
    "<b>5)</b> \n",
    "Simule el efecto de cuantizar una señal continua en el tiempo mediante un conversor analógico digital (ADC).\n",
    "</div>"
   ]
  },
  {
   "cell_type": "markdown",
   "metadata": {},
   "source": [
    "Para ello analice señales determinísticas, por ejemplo una senoidal de **energía normalizada** y frecuencia $f_0$, y otras que varíen de forma más aleatoria y por lo tanto, representativa de una señal real, por ejemplo añadiendo ruido. Es decir que la señal *real* simulada será \n",
    "\n",
    "$$s_R = s + n$$\n",
    "\n",
    "donde la señal $n$ debe tener una energía de $1/10$.\n",
    "           \n",
    "Puede simular una señal continua (aproximadamente para los fines prácticos), mediante una señal muestreada a una $f^1_S$ muy alta en comparación con las $f_S$  que quiere estudiar, y un tipo de dato de doble precisión (double o float de 64 bits). De esta manera se asegura una grilla de cuantización (en tiempo y amplitud) mucho más densa que la que se va a simular. Se pide cuantizar a palabras de 4, 8 y 16 bits, obteniendo\n",
    "\n",
    "$$ s_Q = \\mathop{Q}_i \\{s_R\\} \\quad i \\in (4, 8, 16) $$\n",
    "\n",
    "Siendo $\\mathop{Q}_i$ la función **no lineal** responsable de la cuantización a *i-* bits de la señal real $s_R$. Describa el ruido de cuantización \n",
    "\n",
    "$$ e = s_Q - s_R$$\n",
    "\n",
    "para las 3 situaciones antedichas siguiendo las siguientes consignas.\n",
    "     \n"
   ]
  },
  {
   "cell_type": "markdown",
   "metadata": {},
   "source": [
    "<div class=\"alert alert-block alert-info\">\n",
    "<b>5.a)</b> \n",
    "La señal temporal $e$ y su espectro $E$.\n",
    "</div>"
   ]
  },
  {
   "cell_type": "code",
   "execution_count": 186,
   "metadata": {},
   "outputs": [
    {
     "data": {
      "text/html": [
       "<table border=\"1\" class=\"dataframe\">\n",
       "  <thead>\n",
       "    <tr style=\"text-align: right;\">\n",
       "      <th></th>\n",
       "      <th>Energía total</th>\n",
       "      <th>Energía total Q</th>\n",
       "      <th>Energía total $e$</th>\n",
       "    </tr>\n",
       "  </thead>\n",
       "  <tbody>\n",
       "    <tr>\n",
       "      <th>$f_0$ \\ expr. matemática</th>\n",
       "      <td>$\\sum_{f=0}^{f_S/2} \\lvert S_R(f) \\rvert ^2$</td>\n",
       "      <td>$\\sum_{f=0}^{f_S/2} \\lvert S_Q(f) \\rvert ^2$</td>\n",
       "      <td>$\\sum_{f=0}^{f_S/2} \\lvert e(f) \\rvert ^2$</td>\n",
       "    </tr>\n",
       "    <tr>\n",
       "      <th></th>\n",
       "      <td></td>\n",
       "      <td></td>\n",
       "      <td></td>\n",
       "    </tr>\n",
       "    <tr>\n",
       "      <th>4 bits</th>\n",
       "      <td></td>\n",
       "      <td></td>\n",
       "      <td></td>\n",
       "    </tr>\n",
       "    <tr>\n",
       "      <th>8 bits</th>\n",
       "      <td></td>\n",
       "      <td></td>\n",
       "      <td></td>\n",
       "    </tr>\n",
       "    <tr>\n",
       "      <th>16 bits</th>\n",
       "      <td></td>\n",
       "      <td></td>\n",
       "      <td></td>\n",
       "    </tr>\n",
       "  </tbody>\n",
       "</table>"
      ],
      "text/plain": [
       "<IPython.core.display.HTML object>"
      ]
     },
     "execution_count": 186,
     "metadata": {},
     "output_type": "execute_result"
    }
   ],
   "source": [
    "#######################################\n",
    "# Tu simulación que genere resultados #\n",
    "#######################################\n",
    "\n",
    "tus_resultados = [ ['$\\sum_{f=0}^{f_S/2} \\lvert S_R(f) \\rvert ^2$', '$\\sum_{f=0}^{f_S/2} \\lvert S_Q(f) \\rvert ^2$', '$\\sum_{f=0}^{f_S/2} \\lvert e(f) \\rvert ^2$' ], \n",
    "                   ['',                                             '',                                             ''                              ], \n",
    "                   ['', '', ''], # <-- completar acá\n",
    "                   ['', '', ''], # <-- completar acá\n",
    "                   ['', '', ''], # <-- completar acá\n",
    "                 ]\n",
    "df = DataFrame(tus_resultados, columns=['Energía total', 'Energía total Q', 'Energía total $e$'],\n",
    "               index=['$f_0$ \\ expr. matemática', \n",
    "                      '', \n",
    "                      '4 bits', \n",
    "                      '8 bits', \n",
    "                      '16 bits'\n",
    "                      ])\n",
    "HTML(df.to_html())\n"
   ]
  },
  {
   "cell_type": "markdown",
   "metadata": {},
   "source": [
    "<div class=\"alert alert-block alert-info\">\n",
    "<b>5.b)</b> El histograma de la señal $e_i$ para cada tamaño de palabra.\n",
    "</div>"
   ]
  },
  {
   "cell_type": "code",
   "execution_count": 187,
   "metadata": {},
   "outputs": [],
   "source": [
    "#####################################\n",
    "# Tu simulación que genere gráficas #\n",
    "#####################################\n"
   ]
  },
  {
   "cell_type": "markdown",
   "metadata": {},
   "source": [
    "¿Qué información podemos obtener de esta forma de analizar la señal $e_i$?"
   ]
  },
  {
   "cell_type": "markdown",
   "metadata": {},
   "source": [
    "<div class=\"alert alert-block alert-warning\">\n",
    "<b>Respuesta:</b> Escriba aquí su respuesta.\n",
    "</div>"
   ]
  },
  {
   "cell_type": "markdown",
   "metadata": {},
   "source": [
    "<div class=\"alert alert-block alert-info\">\n",
    "<b>5.c)</b> Una descripción de la señal $e_i$, por medio del **valor medio**, su valor **RMS** y su energía **energía**\n",
    "</div>"
   ]
  },
  {
   "cell_type": "code",
   "execution_count": 188,
   "metadata": {},
   "outputs": [
    {
     "data": {
      "text/html": [
       "<table border=\"1\" class=\"dataframe\">\n",
       "  <thead>\n",
       "    <tr style=\"text-align: right;\">\n",
       "      <th></th>\n",
       "      <th>Valor medio</th>\n",
       "      <th>RMS</th>\n",
       "      <th>Energía</th>\n",
       "    </tr>\n",
       "  </thead>\n",
       "  <tbody>\n",
       "    <tr>\n",
       "      <th>4 bits</th>\n",
       "      <td></td>\n",
       "      <td></td>\n",
       "      <td></td>\n",
       "    </tr>\n",
       "    <tr>\n",
       "      <th>8 bits</th>\n",
       "      <td></td>\n",
       "      <td></td>\n",
       "      <td></td>\n",
       "    </tr>\n",
       "    <tr>\n",
       "      <th>16 bits</th>\n",
       "      <td></td>\n",
       "      <td></td>\n",
       "      <td></td>\n",
       "    </tr>\n",
       "  </tbody>\n",
       "</table>"
      ],
      "text/plain": [
       "<IPython.core.display.HTML object>"
      ]
     },
     "execution_count": 188,
     "metadata": {},
     "output_type": "execute_result"
    }
   ],
   "source": [
    "#######################################\n",
    "# Tu simulación que genere resultados #\n",
    "#######################################\n",
    "\n",
    "tus_resultados = [ \n",
    "                   ['', '', ''], # <-- completar acá\n",
    "                   ['', '', ''], # <-- completar acá\n",
    "                   ['', '', ''], # <-- completar acá\n",
    "                 ]\n",
    "df = DataFrame(tus_resultados, columns=['Valor medio', 'RMS', 'Energía'],\n",
    "               index=[\n",
    "                      '4 bits', \n",
    "                      '8 bits', \n",
    "                      '16 bits'\n",
    "                      ])\n",
    "HTML(df.to_html())\n"
   ]
  },
  {
   "cell_type": "markdown",
   "metadata": {},
   "source": [
    "<div class=\"alert alert-block alert-info\">\n",
    "<b>5.d)</b> Una descripción **estadística** de la señal $e_i$, por medio de su **media**, su **desvío estándard** y su energía **varianza**.\n",
    "</div>"
   ]
  },
  {
   "cell_type": "code",
   "execution_count": 189,
   "metadata": {},
   "outputs": [
    {
     "data": {
      "text/html": [
       "<table border=\"1\" class=\"dataframe\">\n",
       "  <thead>\n",
       "    <tr style=\"text-align: right;\">\n",
       "      <th></th>\n",
       "      <th>Media</th>\n",
       "      <th>Desvío estándard</th>\n",
       "      <th>Varianza</th>\n",
       "    </tr>\n",
       "  </thead>\n",
       "  <tbody>\n",
       "    <tr>\n",
       "      <th>4 bits</th>\n",
       "      <td></td>\n",
       "      <td></td>\n",
       "      <td></td>\n",
       "    </tr>\n",
       "    <tr>\n",
       "      <th>8 bits</th>\n",
       "      <td></td>\n",
       "      <td></td>\n",
       "      <td></td>\n",
       "    </tr>\n",
       "    <tr>\n",
       "      <th>16 bits</th>\n",
       "      <td></td>\n",
       "      <td></td>\n",
       "      <td></td>\n",
       "    </tr>\n",
       "  </tbody>\n",
       "</table>"
      ],
      "text/plain": [
       "<IPython.core.display.HTML object>"
      ]
     },
     "execution_count": 189,
     "metadata": {},
     "output_type": "execute_result"
    }
   ],
   "source": [
    "#######################################\n",
    "# Tu simulación que genere resultados #\n",
    "#######################################\n",
    "\n",
    "tus_resultados = [ \n",
    "                   ['', '', ''], # <-- completar acá\n",
    "                   ['', '', ''], # <-- completar acá\n",
    "                   ['', '', ''], # <-- completar acá\n",
    "                 ]\n",
    "df = DataFrame(tus_resultados, columns=['Media', 'Desvío estándard', 'Varianza'],\n",
    "               index=[\n",
    "                      '4 bits', \n",
    "                      '8 bits', \n",
    "                      '16 bits'\n",
    "                      ])\n",
    "HTML(df.to_html())\n"
   ]
  },
  {
   "cell_type": "markdown",
   "metadata": {},
   "source": [
    "Discutir las similitudes y diferencias con los parámetros calculados en **c)** y **d)**. "
   ]
  },
  {
   "cell_type": "markdown",
   "metadata": {},
   "source": [
    "<div class=\"alert alert-block alert-warning\">\n",
    "<b>Respuesta:</b> Escriba aquí su respuesta.\n",
    "</div>"
   ]
  }
 ],
 "metadata": {
  "kernelspec": {
   "display_name": "Python 3",
   "language": "python",
   "name": "python3"
  },
  "language_info": {
   "codemirror_mode": {
    "name": "ipython",
    "version": 3
   },
   "file_extension": ".py",
   "mimetype": "text/x-python",
   "name": "python",
   "nbconvert_exporter": "python",
   "pygments_lexer": "ipython3",
   "version": "3.8.2"
  }
 },
 "nbformat": 4,
 "nbformat_minor": 2
}
